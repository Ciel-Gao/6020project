{
 "nbformat": 4,
 "nbformat_minor": 0,
 "metadata": {
  "colab": {
   "provenance": []
  },
  "kernelspec": {
   "name": "python3",
   "display_name": "Python 3 (ipykernel)",
   "language": "python"
  },
  "language_info": {
   "name": "python"
  }
 },
 "cells": [
  {
   "cell_type": "markdown",
   "source": [
    "# Data preprocessing part and Collapsed Gibbs Sampling\n",
    "## Download BBC news dataset from Kaggle\n",
    "The dataset has been changed on the kaggle website after my midterm project. So I don't use download from kaggle directly in case it will change again. I downloaded the file and imported  it."
   ],
   "metadata": {
    "id": "ju_lXtMyla-J"
   }
  },
  {
   "cell_type": "code",
   "metadata": {
    "colab": {
     "base_uri": "https://localhost:8080/"
    },
    "id": "6tkQwHJdlXG_",
    "outputId": "e5ee651a-15f6-4d98-f5e3-8ce203912c15",
    "ExecuteTime": {
     "end_time": "2024-12-07T15:54:26.265896Z",
     "start_time": "2024-12-07T15:54:26.263676Z"
    }
   },
   "source": [
    "# import kagglehub\n",
    "# \n",
    "# # Download latest version\n",
    "# path = kagglehub.dataset_download(\"jacopoferretti/bbc-articles-dataset\")\n",
    "# \n",
    "# print(\"Path to dataset files:\", path)\n",
    "# \n",
    "# import pandas as pd\n",
    "# import os\n",
    "# # List all files in the dataset directory\n",
    "# print(\"Files in the dataset:\")\n",
    "# for file in os.listdir(path):\n",
    "#     print(file)"
   ],
   "outputs": [],
   "execution_count": 6
  },
  {
   "metadata": {
    "ExecuteTime": {
     "end_time": "2024-12-07T17:09:48.264752Z",
     "start_time": "2024-12-07T17:09:48.262518Z"
    }
   },
   "cell_type": "code",
   "source": [
    "import pandas as pd\n",
    "import numpy as np"
   ],
   "outputs": [],
   "execution_count": 21
  },
  {
   "cell_type": "code",
   "source": [
    "df = pd.read_csv(\"bbc_news_text_complexity_summarization.csv\", usecols=[0,1])\n",
    "df['labels'].unique() # check labeled topics"
   ],
   "metadata": {
    "colab": {
     "base_uri": "https://localhost:8080/"
    },
    "id": "WxrPVkW7mFif",
    "outputId": "f4332ae3-2fe5-4ce9-ce4f-f6b498f2b78a",
    "ExecuteTime": {
     "end_time": "2024-12-07T17:14:28.909866Z",
     "start_time": "2024-12-07T17:14:28.856084Z"
    }
   },
   "outputs": [
    {
     "data": {
      "text/plain": [
       "array(['business', 'entertainment', 'politics', 'sport', 'tech'],\n",
       "      dtype=object)"
      ]
     },
     "execution_count": 29,
     "metadata": {},
     "output_type": "execute_result"
    }
   ],
   "execution_count": 29
  },
  {
   "metadata": {
    "ExecuteTime": {
     "end_time": "2024-12-07T17:09:51.166142Z",
     "start_time": "2024-12-07T17:09:51.160658Z"
    }
   },
   "cell_type": "code",
   "source": "df.head()",
   "outputs": [
    {
     "data": {
      "text/plain": [
       "                                                text    labels\n",
       "0  Ad sales boost Time Warner profit\\n\\nQuarterly...  business\n",
       "1  Dollar gains on Greenspan speech\\n\\nThe dollar...  business\n",
       "2  Yukos unit buyer faces loan claim\\n\\nThe owner...  business\n",
       "3  High fuel prices hit BA's profits\\n\\nBritish A...  business\n",
       "4  Pernod takeover talk lifts Domecq\\n\\nShares in...  business"
      ],
      "text/html": [
       "<div>\n",
       "<style scoped>\n",
       "    .dataframe tbody tr th:only-of-type {\n",
       "        vertical-align: middle;\n",
       "    }\n",
       "\n",
       "    .dataframe tbody tr th {\n",
       "        vertical-align: top;\n",
       "    }\n",
       "\n",
       "    .dataframe thead th {\n",
       "        text-align: right;\n",
       "    }\n",
       "</style>\n",
       "<table border=\"1\" class=\"dataframe\">\n",
       "  <thead>\n",
       "    <tr style=\"text-align: right;\">\n",
       "      <th></th>\n",
       "      <th>text</th>\n",
       "      <th>labels</th>\n",
       "    </tr>\n",
       "  </thead>\n",
       "  <tbody>\n",
       "    <tr>\n",
       "      <th>0</th>\n",
       "      <td>Ad sales boost Time Warner profit\\n\\nQuarterly...</td>\n",
       "      <td>business</td>\n",
       "    </tr>\n",
       "    <tr>\n",
       "      <th>1</th>\n",
       "      <td>Dollar gains on Greenspan speech\\n\\nThe dollar...</td>\n",
       "      <td>business</td>\n",
       "    </tr>\n",
       "    <tr>\n",
       "      <th>2</th>\n",
       "      <td>Yukos unit buyer faces loan claim\\n\\nThe owner...</td>\n",
       "      <td>business</td>\n",
       "    </tr>\n",
       "    <tr>\n",
       "      <th>3</th>\n",
       "      <td>High fuel prices hit BA's profits\\n\\nBritish A...</td>\n",
       "      <td>business</td>\n",
       "    </tr>\n",
       "    <tr>\n",
       "      <th>4</th>\n",
       "      <td>Pernod takeover talk lifts Domecq\\n\\nShares in...</td>\n",
       "      <td>business</td>\n",
       "    </tr>\n",
       "  </tbody>\n",
       "</table>\n",
       "</div>"
      ]
     },
     "execution_count": 23,
     "metadata": {},
     "output_type": "execute_result"
    }
   ],
   "execution_count": 23
  },
  {
   "cell_type": "code",
   "source": [
    "df['text'] = df['text'].astype(str)\n",
    "df.shape"
   ],
   "metadata": {
    "colab": {
     "base_uri": "https://localhost:8080/"
    },
    "id": "JcnAVXMrmOSO",
    "outputId": "b90ddf33-ab75-43f8-f5c4-492d3487f109",
    "ExecuteTime": {
     "end_time": "2024-12-07T17:14:31.392613Z",
     "start_time": "2024-12-07T17:14:31.388319Z"
    }
   },
   "outputs": [
    {
     "data": {
      "text/plain": [
       "(2127, 2)"
      ]
     },
     "execution_count": 30,
     "metadata": {},
     "output_type": "execute_result"
    }
   ],
   "execution_count": 30
  },
  {
   "cell_type": "code",
   "source": [
    "from collections import Counter\n",
    "from tqdm import tqdm\n",
    "from joblib import Parallel, delayed\n",
    "import nltk\n",
    "from nltk.corpus import stopwords\n",
    "from nltk.tokenize import word_tokenize\n",
    "from nltk.stem import WordNetLemmatizer\n",
    "import string\n",
    "import ssl\n",
    "\n",
    "try:\n",
    "    _create_unverified_https_context = ssl._create_unverified_context\n",
    "except AttributeError:\n",
    "    pass\n",
    "else:\n",
    "    ssl._create_default_https_context = _create_unverified_https_context\n",
    "\n",
    "nltk.download('punkt')  # Tokenizer\n",
    "nltk.download('stopwords')  # Stopwords\n",
    "nltk.download('wordnet')  # Lemmatizer\n",
    "nltk.download('punkt_tab')\n"
   ],
   "metadata": {
    "colab": {
     "base_uri": "https://localhost:8080/"
    },
    "id": "hX0YcQodmVsW",
    "outputId": "db21d0fb-c5be-4384-b60e-69b56e3e3241",
    "ExecuteTime": {
     "end_time": "2024-12-07T15:59:20.073527Z",
     "start_time": "2024-12-07T15:59:18.538277Z"
    }
   },
   "outputs": [
    {
     "name": "stderr",
     "output_type": "stream",
     "text": [
      "[nltk_data] Downloading package punkt to /Users/gaosiyi/nltk_data...\n",
      "[nltk_data]   Package punkt is already up-to-date!\n",
      "[nltk_data] Downloading package stopwords to\n",
      "[nltk_data]     /Users/gaosiyi/nltk_data...\n",
      "[nltk_data]   Package stopwords is already up-to-date!\n",
      "[nltk_data] Downloading package wordnet to /Users/gaosiyi/nltk_data...\n",
      "[nltk_data]   Package wordnet is already up-to-date!\n",
      "[nltk_data] Downloading package punkt_tab to\n",
      "[nltk_data]     /Users/gaosiyi/nltk_data...\n",
      "[nltk_data]   Package punkt_tab is already up-to-date!\n"
     ]
    },
    {
     "data": {
      "text/plain": [
       "True"
      ]
     },
     "execution_count": 15,
     "metadata": {},
     "output_type": "execute_result"
    }
   ],
   "execution_count": 15
  },
  {
   "cell_type": "markdown",
   "source": [
    "# Data preprocessing\n",
    "\n",
    "1.   lowercase\n",
    "2.   tokenize\n",
    "3.   lemmatize\n",
    "4.   remove stopwords\n",
    "\n"
   ],
   "metadata": {
    "id": "tlzrxxkpmqD2"
   }
  },
  {
   "cell_type": "code",
   "source": [
    "stop_words = set(stopwords.words('english'))\n",
    "news_stopwords = {'say', 'said', 'also', 'report', 'news', 'year', 'would', 'wa', 'ha', 'u',\n",
    "                   'mr', 'stayed', 'new', 'could', 'first', 'last', 'one', 'two', 'three', 'four', 'five', 'told', 'still', 'since', 'come', 'day'}\n",
    "stop_words = stop_words.union(news_stopwords)\n",
    "lemmatizer = WordNetLemmatizer()\n",
    "\n",
    "def preprocess_text(text):\n",
    "    text = text.lower()\n",
    "    tokens = word_tokenize(text)\n",
    "    tokens = [lemmatizer.lemmatize(token) for token in tokens]\n",
    "    tokens = [word for word in tokens if word.isalpha() and word not in stop_words]\n",
    "    return tokens\n"
   ],
   "metadata": {
    "id": "k3B1vzj3mgqX",
    "ExecuteTime": {
     "end_time": "2024-12-07T20:31:12.407478Z",
     "start_time": "2024-12-07T20:31:12.394943Z"
    }
   },
   "outputs": [],
   "execution_count": 34
  },
  {
   "cell_type": "code",
   "source": [
    "df['clean_text'] = df['text'].apply(preprocess_text)\n",
    "df_train = df.sample(frac=0.8, random_state=42) # split the dataset into train set and test set\n",
    "df_test = df.drop(df_train.index)\n",
    "print(f\"Train set size: {df_train.shape}\")\n",
    "print(f\"Test set size: {df_test.shape}\")\n",
    "\n",
    "import pickle\n",
    "with open('df_train.pkl', 'wb') as file:\n",
    "    pickle.dump(df_train, file)\n",
    "\n",
    "# Save testing corpus\n",
    "with open('df_test.pkl', 'wb') as file:\n",
    "    pickle.dump(df_test, file)\n",
    "    \n",
    "train_clean_text = df_train['clean_text'].tolist()\n",
    "test_clean_text = df_test['clean_text'].tolist()"
   ],
   "metadata": {
    "colab": {
     "base_uri": "https://localhost:8080/"
    },
    "id": "ZAZzU9renAkJ",
    "outputId": "622699af-e60d-4997-96ff-fcebbc483823",
    "ExecuteTime": {
     "end_time": "2024-12-07T20:31:19.262382Z",
     "start_time": "2024-12-07T20:31:14.739358Z"
    }
   },
   "outputs": [
    {
     "name": "stdout",
     "output_type": "stream",
     "text": [
      "Train set size: (1702, 3)\n",
      "Test set size: (425, 3)\n"
     ]
    }
   ],
   "execution_count": 35
  },
  {
   "metadata": {
    "ExecuteTime": {
     "end_time": "2024-12-07T20:57:21.460441Z",
     "start_time": "2024-12-07T20:57:21.448385Z"
    }
   },
   "cell_type": "code",
   "source": "df_train.head()",
   "outputs": [
    {
     "data": {
      "text/plain": [
       "                                                   text    labels  \\\n",
       "282   EU 'too slow' on economic reforms\\n\\nMost EU c...  business   \n",
       "1999  BBC web search aids odd queries\\n\\nThe BBC's o...      tech   \n",
       "1709  Serena becomes world number two\\n\\nSerena Will...     sport   \n",
       "988   Boothroyd calls for Lords speaker\\n\\nBetty Boo...  politics   \n",
       "2018  Fast lifts rise into record books\\n\\nTwo high-...      tech   \n",
       "\n",
       "                                             clean_text  \n",
       "282   [eu, slow, economic, reform, eu, country, fail...  \n",
       "1999  [bbc, web, search, aid, odd, query, bbc, onlin...  \n",
       "1709  [serena, becomes, world, number, serena, willi...  \n",
       "988   [boothroyd, call, lord, speaker, betty, boothr...  \n",
       "2018  [fast, lift, rise, record, book, lift, world, ...  "
      ],
      "text/html": [
       "<div>\n",
       "<style scoped>\n",
       "    .dataframe tbody tr th:only-of-type {\n",
       "        vertical-align: middle;\n",
       "    }\n",
       "\n",
       "    .dataframe tbody tr th {\n",
       "        vertical-align: top;\n",
       "    }\n",
       "\n",
       "    .dataframe thead th {\n",
       "        text-align: right;\n",
       "    }\n",
       "</style>\n",
       "<table border=\"1\" class=\"dataframe\">\n",
       "  <thead>\n",
       "    <tr style=\"text-align: right;\">\n",
       "      <th></th>\n",
       "      <th>text</th>\n",
       "      <th>labels</th>\n",
       "      <th>clean_text</th>\n",
       "    </tr>\n",
       "  </thead>\n",
       "  <tbody>\n",
       "    <tr>\n",
       "      <th>282</th>\n",
       "      <td>EU 'too slow' on economic reforms\\n\\nMost EU c...</td>\n",
       "      <td>business</td>\n",
       "      <td>[eu, slow, economic, reform, eu, country, fail...</td>\n",
       "    </tr>\n",
       "    <tr>\n",
       "      <th>1999</th>\n",
       "      <td>BBC web search aids odd queries\\n\\nThe BBC's o...</td>\n",
       "      <td>tech</td>\n",
       "      <td>[bbc, web, search, aid, odd, query, bbc, onlin...</td>\n",
       "    </tr>\n",
       "    <tr>\n",
       "      <th>1709</th>\n",
       "      <td>Serena becomes world number two\\n\\nSerena Will...</td>\n",
       "      <td>sport</td>\n",
       "      <td>[serena, becomes, world, number, serena, willi...</td>\n",
       "    </tr>\n",
       "    <tr>\n",
       "      <th>988</th>\n",
       "      <td>Boothroyd calls for Lords speaker\\n\\nBetty Boo...</td>\n",
       "      <td>politics</td>\n",
       "      <td>[boothroyd, call, lord, speaker, betty, boothr...</td>\n",
       "    </tr>\n",
       "    <tr>\n",
       "      <th>2018</th>\n",
       "      <td>Fast lifts rise into record books\\n\\nTwo high-...</td>\n",
       "      <td>tech</td>\n",
       "      <td>[fast, lift, rise, record, book, lift, world, ...</td>\n",
       "    </tr>\n",
       "  </tbody>\n",
       "</table>\n",
       "</div>"
      ]
     },
     "execution_count": 45,
     "metadata": {},
     "output_type": "execute_result"
    }
   ],
   "execution_count": 45
  },
  {
   "metadata": {},
   "cell_type": "markdown",
   "source": "store the training and testing set as pickle file, which is going to be used in other file in training the variational em algorithm. This step is to make sure two method using the exactly same dataset.\n"
  },
  {
   "cell_type": "code",
   "source": [
    "def construct_corpus(clean_text):\n",
    "    word_to_id = {}  # Store unique word-ID pairs\n",
    "    current_id = 0\n",
    "    for text in clean_text:\n",
    "        for word in text:\n",
    "            if word not in word_to_id:\n",
    "                word_to_id[word] = current_id\n",
    "                current_id += 1\n",
    "\n",
    "    corpus = []\n",
    "    for text in clean_text:\n",
    "        word_counts = Counter(text)\n",
    "        count_freq = [(word_to_id[word], freq) for word, freq in word_counts.items()]\n",
    "        corpus.append(count_freq)\n",
    "\n",
    "    return corpus, word_to_id\n",
    "\n",
    "train_corpus, train_word_to_id = construct_corpus(train_clean_text)\n",
    "\n",
    "print(f\"Number of documents in training set: {len(train_corpus)}\")\n",
    "print(f\"Number of unique words in training set: {len(train_word_to_id)}\")\n",
    "\n",
    "# construct the testing set corpus using the training vocabulary encoding index to make sure word indexes are consistent\n",
    "def construct_corpus_with_training_vocab(clean_text, word_to_id):\n",
    "    corpus = []\n",
    "    for text in clean_text:\n",
    "        word_counts = Counter(text)\n",
    "        count_freq = [\n",
    "            (word_to_id[word], freq) for word, freq in word_counts.items() if word in word_to_id\n",
    "        ]\n",
    "        corpus.append(count_freq)\n",
    "    return corpus\n",
    "\n",
    "test_corpus = construct_corpus_with_training_vocab(test_clean_text, train_word_to_id)\n",
    "print(f\"Number of documents in test set: {len(test_corpus)}\")"
   ],
   "metadata": {
    "colab": {
     "base_uri": "https://localhost:8080/"
    },
    "id": "NH5TU0kUnZXK",
    "outputId": "0cd3d07f-03e4-4a67-b065-35213a286e9a",
    "ExecuteTime": {
     "end_time": "2024-12-07T23:08:14.482684Z",
     "start_time": "2024-12-07T23:08:14.352627Z"
    }
   },
   "outputs": [
    {
     "name": "stdout",
     "output_type": "stream",
     "text": [
      "Number of documents in training set: 1702\n",
      "Number of unique words in training set: 21927\n",
      "Number of documents in test set: 425\n"
     ]
    }
   ],
   "execution_count": 72
  },
  {
   "cell_type": "markdown",
   "source": [
    "# Implement collapsed gibbs sampling with training dataset, run 500 iterations, and display the top 10 frequent words in each topic"
   ],
   "metadata": {
    "id": "6jaLM0kEoaF3"
   }
  },
  {
   "cell_type": "code",
   "source": [
    "def LDA_collapsed_gibbs(corpus, vocab, num_topics, alpha=0.1, beta=0.1, n_iters=100):\n",
    "    # initialize matrices to store counts\n",
    "    D = len(corpus) # Number of documents\n",
    "    W = len(vocab) # Number of total unique words\n",
    "    C_dk = np.zeros((D, num_topics)) # Number of words in document d assigned to topic k\n",
    "    C_kw = np.zeros((num_topics, W)) # Number of times word w assigned to topic k\n",
    "    C_k = np.zeros(num_topics)  # Total number of words assigned to topic k\n",
    "    Z = [] # List to store topic assignments for each word\n",
    "\n",
    "    # Initialize topic assignments randomly\n",
    "    for doc_idx, doc in enumerate(corpus):\n",
    "        doc_topics = []  # Store topic assignments for the current document\n",
    "        for i, (word_idx, freq) in enumerate(doc): # i represents the ith word in the document, word_idx is the word index for the word in vocabulary, which is used to retrieve the original word\n",
    "            topic = np.random.randint(0, num_topics)  # Random topic assignment\n",
    "            doc_topics.append(topic) # Store topic assignments for each word in the document\n",
    "\n",
    "            # Update counts based on the initial topic assignment\n",
    "            C_dk[doc_idx, topic] += freq\n",
    "            C_kw[topic, word_idx] += freq\n",
    "            C_k[topic] += freq\n",
    "\n",
    "        Z.append(doc_topics) # Store topic assignments for each document\n",
    "\n",
    "    # loops\n",
    "    for _ in tqdm(range(n_iters), desc=\"Gibbs Sampling\"):\n",
    "        for doc_idx, doc in enumerate(corpus):\n",
    "            for i, (word_idx, freq) in enumerate(doc):\n",
    "                current_topic = Z[doc_idx][i] # get the current topic for the ith word in the document\n",
    "\n",
    "                # remove z_i because conditioned on z_(-i)\n",
    "                C_dk[doc_idx, current_topic] -= freq\n",
    "                C_kw[current_topic, word_idx] -= freq\n",
    "                C_k[current_topic] -= freq\n",
    "\n",
    "                # Sample a new topic\n",
    "                new_probs = (C_dk[doc_idx, :] + alpha)/ (C_dk[doc_idx, :].sum() + num_topics * alpha) * (C_kw[:, word_idx] + beta) / (C_k[:] + W * beta)\n",
    "                standardized_new_probs = new_probs / new_probs.sum()\n",
    "\n",
    "                # Assign new topic\n",
    "                new_topic = np.argmax(np.random.multinomial(1, standardized_new_probs))\n",
    "\n",
    "                # Increment counter with new assignment\n",
    "                Z[doc_idx][i] = new_topic\n",
    "                C_dk[doc_idx, new_topic] += freq\n",
    "                C_kw[new_topic, word_idx] += freq\n",
    "                C_k[new_topic] += freq\n",
    "\n",
    "    return C_dk, C_kw, C_k, Z\n",
    "\n",
    "def display_topics(C_kw, id_to_word, num_words=10):\n",
    "    for topic in range(C_kw.shape[0]):\n",
    "        top_words = np.argsort(C_kw[topic])[::-1][:num_words]\n",
    "        topic_words = [id_to_word[word_id] for word_id in top_words]\n",
    "        print(f\"Topic {topic}: {', '.join(topic_words)}\")"
   ],
   "metadata": {
    "id": "Qf9c8iChoYwJ",
    "ExecuteTime": {
     "end_time": "2024-12-07T23:08:56.037929Z",
     "start_time": "2024-12-07T23:08:56.027998Z"
    }
   },
   "outputs": [],
   "execution_count": 73
  },
  {
   "cell_type": "code",
   "source": [
    "#training\n",
    "C_dk, C_kw, C_k, Z = LDA_collapsed_gibbs(train_corpus, train_word_to_id, num_topics=5, alpha=0.1, beta=0.1, n_iters=500)"
   ],
   "metadata": {
    "colab": {
     "base_uri": "https://localhost:8080/",
     "height": 356
    },
    "id": "wqN2hZuAovD1",
    "outputId": "38df5f6e-2afa-4fdc-a8be-e4231459941e",
    "ExecuteTime": {
     "end_time": "2024-12-07T23:23:18.485039Z",
     "start_time": "2024-12-07T23:08:57.580138Z"
    }
   },
   "outputs": [
    {
     "name": "stderr",
     "output_type": "stream",
     "text": [
      "Gibbs Sampling: 100%|██████████| 500/500 [14:20<00:00,  1.72s/it]\n"
     ]
    }
   ],
   "execution_count": 74
  },
  {
   "cell_type": "code",
   "source": [
    "train_id_to_word = {v: k for k, v in train_word_to_id.items()}\n",
    "display_topics(C_kw, train_id_to_word)"
   ],
   "metadata": {
    "id": "Grou0XlKoxaa",
    "ExecuteTime": {
     "end_time": "2024-12-07T23:23:18.505436Z",
     "start_time": "2024-12-07T23:23:18.496769Z"
    }
   },
   "outputs": [
    {
     "name": "stdout",
     "output_type": "stream",
     "text": [
      "Topic 0: company, market, firm, bank, economy, price, share, sale, growth, business\n",
      "Topic 1: film, best, award, show, star, music, actor, band, number, director\n",
      "Topic 2: people, game, technology, service, phone, mobile, user, net, computer, make\n",
      "Topic 3: game, win, england, player, world, club, time, play, back, team\n",
      "Topic 4: government, people, labour, party, election, minister, blair, plan, tory, brown\n"
     ]
    }
   ],
   "execution_count": 75
  },
  {
   "metadata": {},
   "cell_type": "markdown",
   "source": "# perform prediction on testing set"
  },
  {
   "metadata": {
    "ExecuteTime": {
     "end_time": "2024-12-07T23:23:18.546778Z",
     "start_time": "2024-12-07T23:23:18.540396Z"
    }
   },
   "cell_type": "code",
   "source": [
    "def calculate_C_dk_test(corpus_test, num_topics, C_kw, C_k, vocab_size_train, alpha, beta, n_iters=50):\n",
    "    \n",
    "    D_test = len(corpus_test)  # Number of documents in the test corpus\n",
    "    C_dk_test = np.zeros((D_test, num_topics))  # Initialize document-topic counts\n",
    "    Z_test = []  # Store topic assignments for each word in the test corpus\n",
    "\n",
    "    # Initialize random topic assignments for the test set\n",
    "    for doc_idx, doc in enumerate(corpus_test):\n",
    "        doc_topics = []\n",
    "        for word_idx, freq in doc:\n",
    "            topic = np.random.randint(0, num_topics)  # Random topic assignment\n",
    "            doc_topics.append(topic)\n",
    "            C_dk_test[doc_idx, topic] += freq  # Update document-topic counts\n",
    "        Z_test.append(doc_topics)\n",
    "\n",
    "    # Perform Gibbs sampling for the test set\n",
    "    for _ in tqdm(range(n_iters), desc=\"Gibbs Sampling for Test Set\"):\n",
    "        for doc_idx, doc in enumerate(corpus_test):\n",
    "            for i, (word_idx, freq) in enumerate(doc):\n",
    "                current_topic = Z_test[doc_idx][i]\n",
    "\n",
    "                # Decrement counts for current topic\n",
    "                C_dk_test[doc_idx, current_topic] -= freq\n",
    "\n",
    "                # Calculate topic probabilities\n",
    "                topic_probs = (\n",
    "                    (C_dk_test[doc_idx, :] + alpha) /\n",
    "                    (C_dk_test[doc_idx, :].sum() + num_topics * alpha)\n",
    "                ) * (\n",
    "                    (C_kw[:, word_idx] + beta) /\n",
    "                    (C_k + vocab_size_train * beta)\n",
    "                )\n",
    "                topic_probs /= topic_probs.sum()  # Normalize to get probabilities\n",
    "\n",
    "                # Sample new topic\n",
    "                new_topic = np.argmax(np.random.multinomial(1, topic_probs))\n",
    "                Z_test[doc_idx][i] = new_topic\n",
    "\n",
    "                # Increment counts for the new topic\n",
    "                C_dk_test[doc_idx, new_topic] += freq\n",
    "\n",
    "    return C_dk_test\n"
   ],
   "outputs": [],
   "execution_count": 76
  },
  {
   "metadata": {
    "ExecuteTime": {
     "end_time": "2024-12-07T23:23:37.471778Z",
     "start_time": "2024-12-07T23:23:18.581733Z"
    }
   },
   "cell_type": "code",
   "source": [
    "C_dk_test = calculate_C_dk_test(\n",
    "    corpus_test=test_corpus,\n",
    "    num_topics=5,\n",
    "    C_kw=C_kw,\n",
    "    C_k=C_k,\n",
    "    vocab_size_train=len(train_word_to_id),\n",
    "    alpha=0.1,\n",
    "    beta=0.1,\n",
    "    n_iters=50\n",
    ")"
   ],
   "outputs": [
    {
     "name": "stderr",
     "output_type": "stream",
     "text": [
      "Gibbs Sampling for Test Set: 100%|██████████| 50/50 [00:18<00:00,  2.66it/s]\n"
     ]
    }
   ],
   "execution_count": 77
  },
  {
   "metadata": {},
   "cell_type": "markdown",
   "source": "# calculate perplexity"
  },
  {
   "metadata": {
    "ExecuteTime": {
     "end_time": "2024-12-07T23:23:37.504710Z",
     "start_time": "2024-12-07T23:23:37.501034Z"
    }
   },
   "cell_type": "code",
   "source": [
    "def calculate_perplexity(test_corpus, C_dk_test, C_kw, C_k, vocab_size_train, alpha, beta, total_test_word_count):\n",
    "\n",
    "    # Calculate topic-word probabilities (P(w|z))\n",
    "    P_w_given_z = (C_kw + beta) / (C_k[:, np.newaxis] + vocab_size_train * beta)\n",
    "    \n",
    "    # Initialize variables for log likelihood\n",
    "    log_likelihood = 0\n",
    "\n",
    "    # Loop over each document in the test corpus\n",
    "    for doc_idx, doc in enumerate(test_corpus):\n",
    "        # Get document-topic probabilities (P(z|d))\n",
    "        P_z_given_d = (C_dk_test[doc_idx, :] + alpha) / (C_dk_test[doc_idx, :].sum() + len(C_kw) * alpha)\n",
    "\n",
    "        # Compute log likelihood for each word\n",
    "        for word_idx, freq in doc:\n",
    "            # Calculate P(w) as the weighted sum over topics\n",
    "            P_word = np.dot(P_z_given_d, P_w_given_z[:, word_idx])\n",
    "            if P_word > 0:\n",
    "                log_likelihood += freq * np.log(P_word)\n",
    "\n",
    "    # Calculate perplexity\n",
    "    perplexity = np.exp(-log_likelihood / total_test_word_count)\n",
    "    return perplexity\n"
   ],
   "outputs": [],
   "execution_count": 78
  },
  {
   "metadata": {
    "ExecuteTime": {
     "end_time": "2024-12-07T23:23:37.594491Z",
     "start_time": "2024-12-07T23:23:37.537048Z"
    }
   },
   "cell_type": "code",
   "source": [
    "total_test_word_count = sum(len(doc) for doc in test_clean_text)  # Total words, including unseen ones\n",
    "# Calculate perplexity for the test set\n",
    "perplexity = calculate_perplexity(\n",
    "    test_corpus=test_corpus,\n",
    "    C_dk_test=C_dk_test,\n",
    "    C_kw=C_kw,\n",
    "    C_k=C_k,\n",
    "    vocab_size_train=len(train_word_to_id),\n",
    "    alpha=0.1,\n",
    "    beta=0.1,\n",
    "    total_test_word_count=total_test_word_count\n",
    ")\n",
    "print(f\"Perplexity: {perplexity}\")"
   ],
   "outputs": [
    {
     "name": "stdout",
     "output_type": "stream",
     "text": [
      "Perplexity: 2121.7104640160596\n"
     ]
    }
   ],
   "execution_count": 79
  },
  {
   "metadata": {},
   "cell_type": "markdown",
   "source": "# Illustrate the idea of LDA"
  },
  {
   "metadata": {
    "ExecuteTime": {
     "end_time": "2024-12-08T02:41:12.540803Z",
     "start_time": "2024-12-08T02:41:12.530932Z"
    }
   },
   "cell_type": "code",
   "source": [
    "import matplotlib.pyplot as plt\n",
    "from IPython.display import display, HTML\n",
    "import nltk\n",
    "from nltk.tokenize import word_tokenize\n",
    "\n",
    "row_idx = 9 # Index of the row to visualize\n",
    "original_text = df_train.iloc[row_idx][\"text\"]  # Original text\n",
    "processed_text = df_train.iloc[row_idx][\"clean_text\"]  # Processed clean text\n",
    "word_topics = Z[row_idx]  # Topic assignments from Gibbs Sampling (aligned with processed_text)\n",
    "\n",
    "# Define topic colors\n",
    "topic_colors = {\n",
    "    0: \"red\",\n",
    "    1: \"blue\",\n",
    "    2: \"green\",\n",
    "    3: \"purple\",\n",
    "    4: \"orange\"  # Extend as needed\n",
    "}\n",
    "\n",
    "# Tokenize the original text\n",
    "original_tokens = word_tokenize(original_text.lower())\n",
    "\n",
    "# Function to align topics with original text\n",
    "def align_and_color_text(original_tokens, processed_text, word_topics, topic_colors):\n",
    "\n",
    "    # Create a mapping of processed words to their topics\n",
    "    processed_topic_map = dict(zip(processed_text, word_topics))\n",
    "    \n",
    "    # Highlight each word in the original text\n",
    "    colored_text = []\n",
    "    for word in original_tokens:\n",
    "        # Check if the word exists in the processed text and has a topic\n",
    "        topic = processed_topic_map.get(word, None)\n",
    "        if topic is not None:  # If the word has a topic assignment\n",
    "            color = topic_colors.get(topic, \"black\")\n",
    "            colored_text.append(f'<span style=\"color: {color};\">{word}</span>')\n",
    "        else:\n",
    "            # No topic assigned, keep the word in default color (black)\n",
    "            colored_text.append(word)\n",
    "    \n",
    "    return \" \".join(colored_text)\n",
    "\n",
    "# Generate the colored HTML\n",
    "colored_html = align_and_color_text(original_tokens, processed_text, word_topics, topic_colors)\n",
    "\n",
    "# Display the colored text\n",
    "display(HTML(f\"<p style='font-size: 16px;'>{colored_html}</p>\"))\n"
   ],
   "outputs": [
    {
     "name": "stderr",
     "output_type": "stream",
     "text": [
      "[nltk_data] Downloading package punkt to /Users/gaosiyi/nltk_data...\n",
      "[nltk_data]   Package punkt is already up-to-date!\n"
     ]
    },
    {
     "data": {
      "text/plain": [
       "<IPython.core.display.HTML object>"
      ],
      "text/html": [
       "<p style='font-size: 16px;'><span style=\"color: orange;\">glazer</span> makes new <span style=\"color: red;\">man</span> <span style=\"color: purple;\">utd</span> <span style=\"color: purple;\">approach</span> <span style=\"color: orange;\">malcolm</span> <span style=\"color: orange;\">glazer</span> has <span style=\"color: purple;\">made</span> a <span style=\"color: red;\">fresh</span> <span style=\"color: purple;\">approach</span> to <span style=\"color: red;\">buy</span> <span style=\"color: orange;\">manchester</span> <span style=\"color: red;\">united</span> , which could <span style=\"color: orange;\">lead</span> to a <span style=\"color: red;\">bid</span> <span style=\"color: purple;\">valuing</span> the <span style=\"color: red;\">premiership</span> <span style=\"color: orange;\">club</span> at £800m . the us <span style=\"color: orange;\">tycoon</span> , who has been <span style=\"color: red;\">wooing</span> the <span style=\"color: orange;\">club</span> for the last 12 months , has <span style=\"color: orange;\">approached</span> the <span style=\"color: red;\">united</span> <span style=\"color: red;\">board</span> with `` <span style=\"color: red;\">detailed</span> proposals '' , it has <span style=\"color: red;\">confirmed</span> . mr <span style=\"color: orange;\">glazer</span> , who <span style=\"color: purple;\">owns</span> the <span style=\"color: red;\">tampa</span> <span style=\"color: red;\">bay</span> buccaneers <span style=\"color: red;\">team</span> , hopes this will <span style=\"color: orange;\">lead</span> to a <span style=\"color: red;\">formal</span> <span style=\"color: red;\">bid</span> being <span style=\"color: purple;\">accepted</span> . his new <span style=\"color: red;\">offer</span> is <span style=\"color: purple;\">expected</span> to <span style=\"color: red;\">contain</span> <span style=\"color: red;\">substantially</span> <span style=\"color: orange;\">less</span> <span style=\"color: red;\">debt</span> . mr <span style=\"color: orange;\">glazer</span> has <span style=\"color: red;\">already</span> had one <span style=\"color: orange;\">takeover</span> <span style=\"color: orange;\">attempt</span> <span style=\"color: red;\">turned</span> down by the <span style=\"color: purple;\">red</span> devils and <span style=\"color: purple;\">responded</span> by <span style=\"color: red;\">using</span> his 28.1 % <span style=\"color: red;\">shareholding</span> to <span style=\"color: red;\">vote</span> off three <span style=\"color: red;\">board</span> members last <span style=\"color: orange;\">november</span> . <span style=\"color: red;\">man</span> <span style=\"color: red;\">united</span> had <span style=\"color: red;\">turned</span> down the <span style=\"color: red;\">bid</span> because it was <span style=\"color: red;\">based</span> on a <span style=\"color: red;\">high</span> <span style=\"color: red;\">level</span> of <span style=\"color: red;\">borrowing</span> . but newspapers have <span style=\"color: red;\">speculated</span> <span style=\"color: red;\">recently</span> that the <span style=\"color: orange;\">tycoon</span> had <span style=\"color: orange;\">gained</span> the <span style=\"color: red;\">support</span> of <span style=\"color: red;\">leading</span> banks to come up with a <span style=\"color: red;\">stronger</span> and <span style=\"color: orange;\">less</span> debt-laden <span style=\"color: red;\">bid</span> . last <span style=\"color: red;\">week</span> , <span style=\"color: purple;\">however</span> , mr <span style=\"color: orange;\">glazer</span> <span style=\"color: red;\">issued</span> a <span style=\"color: purple;\">statement</span> to the <span style=\"color: red;\">stock</span> <span style=\"color: orange;\">exchange</span> <span style=\"color: purple;\">distancing</span> himself from a new <span style=\"color: red;\">bid</span> . <span style=\"color: red;\">meanwhile</span> , <span style=\"color: red;\">united</span> 's <span style=\"color: red;\">chief</span> <span style=\"color: purple;\">executive</span> <span style=\"color: red;\">david</span> <span style=\"color: red;\">gill</span> said in <span style=\"color: red;\">december</span> that talks would not <span style=\"color: red;\">resume</span> <span style=\"color: purple;\">unless</span> <span style=\"color: orange;\">glazer</span> <span style=\"color: red;\">came</span> up with `` <span style=\"color: red;\">definitive</span> proposals '' . now the <span style=\"color: red;\">board</span> has <span style=\"color: red;\">confirmed</span> that the us <span style=\"color: red;\">bidder</span> is <span style=\"color: purple;\">back</span> , with a <span style=\"color: purple;\">statement</span> <span style=\"color: red;\">issued</span> on <span style=\"color: orange;\">sunday</span> <span style=\"color: red;\">reading</span> : `` the <span style=\"color: red;\">board</span> can <span style=\"color: red;\">confirm</span> it has now <span style=\"color: red;\">received</span> a <span style=\"color: red;\">detailed</span> <span style=\"color: purple;\">proposal</span> <span style=\"color: purple;\">subject</span> to <span style=\"color: orange;\">various</span> preconditions which <span style=\"color: orange;\">may</span> <span style=\"color: purple;\">form</span> the <span style=\"color: red;\">basis</span> of an <span style=\"color: red;\">offer</span> . `` a further <span style=\"color: orange;\">announcement</span> will be <span style=\"color: purple;\">made</span> in <span style=\"color: red;\">due</span> <span style=\"color: red;\">course</span> . '' to <span style=\"color: orange;\">succeed</span> <span style=\"color: orange;\">malcolm</span> <span style=\"color: orange;\">glazer</span> will still <span style=\"color: purple;\">need</span> the <span style=\"color: purple;\">approval</span> of <span style=\"color: purple;\">major</span> shareholders <span style=\"color: red;\">john</span> <span style=\"color: orange;\">magnier</span> and <span style=\"color: orange;\">jp</span> <span style=\"color: red;\">mcmanus</span> , who own 28.9 % of the <span style=\"color: orange;\">club</span> . but the <span style=\"color: red;\">irish</span> <span style=\"color: orange;\">duo</span> have cut off talks with <span style=\"color: orange;\">glazer</span> over the proposed sale of their stake and have so far <span style=\"color: purple;\">made</span> no comment on his latest <span style=\"color: purple;\">approach</span> . <span style=\"color: red;\">united</span> fans have reacted with anger at the <span style=\"color: orange;\">announcement</span> . they have vehemently opposed any proposed <span style=\"color: orange;\">takeover</span> by <span style=\"color: orange;\">glazer</span> since he first showed interest in the <span style=\"color: orange;\">club</span> in september 2003 and after <span style=\"color: orange;\">sunday</span> 's <span style=\"color: orange;\">announcement</span> they vowed to fight on . `` we will fight tooth and nail to stop him whatever his <span style=\"color: red;\">offer</span> says . we do not want him or anybody else taking over <span style=\"color: red;\">united</span> , '' said mark longden of the independent <span style=\"color: orange;\">manchester</span> <span style=\"color: red;\">united</span> supporters ' association . `` the campaign against this proposed <span style=\"color: orange;\">takeover</span> will continue as it has done since <span style=\"color: orange;\">glazer</span> first showed interest in the <span style=\"color: orange;\">club</span> . ''</p>"
      ]
     },
     "metadata": {},
     "output_type": "display_data"
    }
   ],
   "execution_count": 95
  },
  {
   "metadata": {
    "ExecuteTime": {
     "end_time": "2024-12-08T02:41:16.942207Z",
     "start_time": "2024-12-08T02:41:16.938921Z"
    }
   },
   "cell_type": "code",
   "source": "original_text",
   "outputs": [
    {
     "data": {
      "text/plain": [
       "'Glazer makes new Man Utd approach\\n\\nMalcolm Glazer has made a fresh approach to buy Manchester United, which could lead to a bid valuing the Premiership club at £800m.\\n\\nThe US tycoon, who has been wooing the club for the last 12 months, has approached the United board with \"detailed proposals\", it has confirmed. Mr Glazer, who owns the Tampa Bay Buccaneers team, hopes this will lead to a formal bid being accepted. His new offer is expected to contain substantially less debt. Mr Glazer has already had one takeover attempt turned down by the Red Devils and responded by using his 28.1% shareholding to vote off three board members last November.\\n\\nMan United had turned down the bid because it was based on a high level of borrowing. But newspapers have speculated recently that the tycoon had gained the support of leading banks to come up with a stronger and less debt-laden bid. Last week, however, Mr Glazer issued a statement to the Stock Exchange distancing himself from a new bid.\\n\\nMeanwhile, United\\'s chief executive David Gill said in December that talks would not resume unless Glazer came up with \"definitive proposals\". Now the board has confirmed that the US bidder is back, with a statement issued on Sunday reading: \"The board can confirm it has now received a detailed proposal subject to various preconditions which may form the basis of an offer. \"A further announcement will be made in due course.\"\\n\\nTo succeed Malcolm Glazer will still need the approval of major shareholders John Magnier and JP McManus, who own 28.9% of the club. But the Irish duo have cut off talks with Glazer over the proposed sale of their stake and have so far made no comment on his latest approach. United fans have reacted with anger at the announcement. They have vehemently opposed any proposed takeover by Glazer since he first showed interest in the club in September 2003 and after Sunday\\'s announcement they vowed to fight on. \"We will fight tooth and nail to stop him whatever his offer says. We do not want him or anybody else taking over United,\" said Mark Longden of the Independent Manchester United Supporters\\' Association. \"The campaign against this proposed takeover will continue as it has done since Glazer first showed interest in the club.\"'"
      ]
     },
     "execution_count": 96,
     "metadata": {},
     "output_type": "execute_result"
    }
   ],
   "execution_count": 96
  },
  {
   "metadata": {
    "ExecuteTime": {
     "end_time": "2024-12-08T02:41:18.893965Z",
     "start_time": "2024-12-08T02:41:18.890607Z"
    }
   },
   "cell_type": "code",
   "source": "df_train.iloc[row_idx][\"labels\"]",
   "outputs": [
    {
     "data": {
      "text/plain": [
       "'business'"
      ]
     },
     "execution_count": 97,
     "metadata": {},
     "output_type": "execute_result"
    }
   ],
   "execution_count": 97
  },
  {
   "metadata": {},
   "cell_type": "markdown",
   "source": [
    "# Experiments\n",
    "## num_topics = [2,5,10,20,50,100]"
   ]
  },
  {
   "metadata": {
    "ExecuteTime": {
     "end_time": "2024-12-07T23:26:51.533871Z",
     "start_time": "2024-12-07T23:26:51.529351Z"
    }
   },
   "cell_type": "code",
   "source": [
    "def experiment_varying_topics(\n",
    "    train_corpus, test_corpus, train_word_to_id, total_test_word_count, \n",
    "    num_topics_list, alpha=0.1, beta=0.1, train_iters=500, test_iters=50):\n",
    "\n",
    "    perplexity_results = {}\n",
    "\n",
    "    for num_topics in num_topics_list:\n",
    "        print(f\"Training LDA model with {num_topics} topics...\")\n",
    "        \n",
    "        # Initialize and train LDA model on training corpus\n",
    "        C_dk_train, C_kw, C_k, Z_train = LDA_collapsed_gibbs(\n",
    "            corpus=train_corpus,\n",
    "            vocab=train_word_to_id,\n",
    "            num_topics=num_topics,\n",
    "            alpha=alpha,\n",
    "            beta=beta,\n",
    "            n_iters=train_iters\n",
    "        )\n",
    "\n",
    "        # Calculate document-topic matrix for test corpus\n",
    "        print(f\"Evaluating perplexity for {num_topics} topics...\")\n",
    "        C_dk_test = calculate_C_dk_test(\n",
    "            corpus_test=test_corpus,\n",
    "            num_topics=num_topics,\n",
    "            C_kw=C_kw,\n",
    "            C_k=C_k,\n",
    "            vocab_size_train=len(train_word_to_id),\n",
    "            alpha=alpha,\n",
    "            beta=beta,\n",
    "            n_iters=test_iters\n",
    "        )\n",
    "\n",
    "        # Compute perplexity for the test set\n",
    "        perplexity = calculate_perplexity(\n",
    "            test_corpus=test_corpus,\n",
    "            C_dk_test=C_dk_test,\n",
    "            C_kw=C_kw,\n",
    "            C_k=C_k,\n",
    "            vocab_size_train=len(train_word_to_id),\n",
    "            alpha=alpha,\n",
    "            beta=beta,\n",
    "            total_test_word_count=total_test_word_count\n",
    "        )\n",
    "        print(f\"Perplexity for {num_topics} topics: {perplexity}\")\n",
    "\n",
    "        # Store perplexity result\n",
    "        perplexity_results[num_topics] = perplexity\n",
    "\n",
    "    return perplexity_results\n"
   ],
   "outputs": [],
   "execution_count": 83
  },
  {
   "metadata": {
    "ExecuteTime": {
     "end_time": "2024-12-08T00:40:31.999687Z",
     "start_time": "2024-12-07T23:27:30.391989Z"
    }
   },
   "cell_type": "code",
   "source": [
    "num_topics_list = [2, 5, 10, 20, 50]\n",
    "perplexity_results = experiment_varying_topics(\n",
    "    train_corpus=train_corpus,\n",
    "    test_corpus=test_corpus,\n",
    "    train_word_to_id=train_word_to_id,\n",
    "    total_test_word_count=total_test_word_count,\n",
    "    num_topics_list=num_topics_list,\n",
    "    alpha=0.1,\n",
    "    beta=0.1,\n",
    "    train_iters=500,\n",
    "    test_iters=50\n",
    ")\n"
   ],
   "outputs": [
    {
     "name": "stdout",
     "output_type": "stream",
     "text": [
      "Training LDA model with 2 topics...\n"
     ]
    },
    {
     "name": "stderr",
     "output_type": "stream",
     "text": [
      "Gibbs Sampling: 100%|██████████| 500/500 [13:45<00:00,  1.65s/it]\n"
     ]
    },
    {
     "name": "stdout",
     "output_type": "stream",
     "text": [
      "Evaluating perplexity for 2 topics...\n"
     ]
    },
    {
     "name": "stderr",
     "output_type": "stream",
     "text": [
      "Gibbs Sampling for Test Set: 100%|██████████| 50/50 [00:18<00:00,  2.72it/s]\n"
     ]
    },
    {
     "name": "stdout",
     "output_type": "stream",
     "text": [
      "Perplexity for 2 topics: 2738.653230876155\n",
      "Training LDA model with 5 topics...\n"
     ]
    },
    {
     "name": "stderr",
     "output_type": "stream",
     "text": [
      "Gibbs Sampling: 100%|██████████| 500/500 [13:57<00:00,  1.67s/it]\n"
     ]
    },
    {
     "name": "stdout",
     "output_type": "stream",
     "text": [
      "Evaluating perplexity for 5 topics...\n"
     ]
    },
    {
     "name": "stderr",
     "output_type": "stream",
     "text": [
      "Gibbs Sampling for Test Set: 100%|██████████| 50/50 [00:18<00:00,  2.70it/s]\n"
     ]
    },
    {
     "name": "stdout",
     "output_type": "stream",
     "text": [
      "Perplexity for 5 topics: 2120.7774978379084\n",
      "Training LDA model with 10 topics...\n"
     ]
    },
    {
     "name": "stderr",
     "output_type": "stream",
     "text": [
      "Gibbs Sampling: 100%|██████████| 500/500 [14:04<00:00,  1.69s/it]\n"
     ]
    },
    {
     "name": "stdout",
     "output_type": "stream",
     "text": [
      "Evaluating perplexity for 10 topics...\n"
     ]
    },
    {
     "name": "stderr",
     "output_type": "stream",
     "text": [
      "Gibbs Sampling for Test Set: 100%|██████████| 50/50 [00:18<00:00,  2.66it/s]\n"
     ]
    },
    {
     "name": "stdout",
     "output_type": "stream",
     "text": [
      "Perplexity for 10 topics: 1955.1987706868235\n",
      "Training LDA model with 20 topics...\n"
     ]
    },
    {
     "name": "stderr",
     "output_type": "stream",
     "text": [
      "Gibbs Sampling: 100%|██████████| 500/500 [14:23<00:00,  1.73s/it]\n"
     ]
    },
    {
     "name": "stdout",
     "output_type": "stream",
     "text": [
      "Evaluating perplexity for 20 topics...\n"
     ]
    },
    {
     "name": "stderr",
     "output_type": "stream",
     "text": [
      "Gibbs Sampling for Test Set: 100%|██████████| 50/50 [00:19<00:00,  2.61it/s]\n"
     ]
    },
    {
     "name": "stdout",
     "output_type": "stream",
     "text": [
      "Perplexity for 20 topics: 1799.5026826660248\n",
      "Training LDA model with 50 topics...\n"
     ]
    },
    {
     "name": "stderr",
     "output_type": "stream",
     "text": [
      "Gibbs Sampling: 100%|██████████| 500/500 [15:12<00:00,  1.82s/it]\n"
     ]
    },
    {
     "name": "stdout",
     "output_type": "stream",
     "text": [
      "Evaluating perplexity for 50 topics...\n"
     ]
    },
    {
     "name": "stderr",
     "output_type": "stream",
     "text": [
      "Gibbs Sampling for Test Set: 100%|██████████| 50/50 [00:20<00:00,  2.45it/s]"
     ]
    },
    {
     "name": "stdout",
     "output_type": "stream",
     "text": [
      "Perplexity for 50 topics: 1739.3602543508403\n"
     ]
    },
    {
     "name": "stderr",
     "output_type": "stream",
     "text": [
      "\n"
     ]
    }
   ],
   "execution_count": 84
  },
  {
   "metadata": {
    "ExecuteTime": {
     "end_time": "2024-12-08T01:01:22.712471Z",
     "start_time": "2024-12-08T00:44:19.991768Z"
    }
   },
   "cell_type": "code",
   "source": [
    "perplexity_result_100 = experiment_varying_topics(\n",
    "    train_corpus=train_corpus,\n",
    "    test_corpus=test_corpus,\n",
    "    train_word_to_id=train_word_to_id,\n",
    "    total_test_word_count=total_test_word_count,\n",
    "    num_topics_list=[100],\n",
    "    alpha=0.1,\n",
    "    beta=0.1,\n",
    "    train_iters=500,\n",
    "    test_iters=50\n",
    ")"
   ],
   "outputs": [
    {
     "name": "stdout",
     "output_type": "stream",
     "text": [
      "Training LDA model with 100 topics...\n"
     ]
    },
    {
     "name": "stderr",
     "output_type": "stream",
     "text": [
      "Gibbs Sampling: 100%|██████████| 500/500 [16:39<00:00,  2.00s/it]\n"
     ]
    },
    {
     "name": "stdout",
     "output_type": "stream",
     "text": [
      "Evaluating perplexity for 100 topics...\n"
     ]
    },
    {
     "name": "stderr",
     "output_type": "stream",
     "text": [
      "Gibbs Sampling for Test Set: 100%|██████████| 50/50 [00:22<00:00,  2.21it/s]"
     ]
    },
    {
     "name": "stdout",
     "output_type": "stream",
     "text": [
      "Perplexity for 100 topics: 1787.521755190112\n"
     ]
    },
    {
     "name": "stderr",
     "output_type": "stream",
     "text": [
      "\n"
     ]
    }
   ],
   "execution_count": 85
  },
  {
   "metadata": {
    "ExecuteTime": {
     "end_time": "2024-12-08T01:05:28.717818Z",
     "start_time": "2024-12-08T01:05:28.714346Z"
    }
   },
   "cell_type": "code",
   "source": "perplexity_result_100",
   "outputs": [
    {
     "data": {
      "text/plain": [
       "{100: 1787.521755190112}"
      ]
     },
     "execution_count": 87,
     "metadata": {},
     "output_type": "execute_result"
    }
   ],
   "execution_count": 87
  },
  {
   "metadata": {
    "ExecuteTime": {
     "end_time": "2024-12-08T14:45:25.298224Z",
     "start_time": "2024-12-08T14:45:25.294950Z"
    }
   },
   "cell_type": "code",
   "source": [
    "combined_perplexities = perplexity_results.copy()\n",
    "combined_perplexities.update(perplexity_result_100)\n",
    "print(combined_perplexities)"
   ],
   "outputs": [
    {
     "name": "stdout",
     "output_type": "stream",
     "text": [
      "{2: 2738.653230876155, 5: 2120.7774978379084, 10: 1955.1987706868235, 20: 1799.5026826660248, 50: 1739.3602543508403, 100: 1787.521755190112}\n"
     ]
    }
   ],
   "execution_count": 114
  },
  {
   "metadata": {},
   "cell_type": "markdown",
   "source": "# Draw perplexity plot for two methods"
  },
  {
   "metadata": {
    "ExecuteTime": {
     "end_time": "2024-12-09T05:38:06.106857Z",
     "start_time": "2024-12-09T05:38:05.326716Z"
    }
   },
   "cell_type": "code",
   "source": [
    "perplexity_em = {2:3073.6158, 5: 1953.9353, 10:1390.4193}\n",
    "perplexity_gibbs = combined_perplexities\n",
    "\n",
    "topics_gibbs = list(perplexity_gibbs.keys())\n",
    "values_gibbs = list(perplexity_gibbs.values())\n",
    "\n",
    "topics_em = list(perplexity_em.keys())\n",
    "values_em = list(perplexity_em.values())\n",
    "\n",
    "plt.figure(figsize=(10, 6))\n",
    "plt.plot(topics_gibbs, values_gibbs, marker='o', label='Collapsed Gibbs Sampling')\n",
    "plt.plot(topics_em, values_em, marker='s', label='Variational EM')\n",
    "\n",
    "plt.title('Perplexity vs Number of Topics', fontsize=16)\n",
    "plt.xlabel('Number of Topics', fontsize=14)\n",
    "plt.ylabel('Perplexity', fontsize=14)\n",
    "plt.grid(True, linestyle='--', alpha=0.7)\n",
    "plt.legend(fontsize=12)\n",
    "plt.xticks(sorted(set(topics_gibbs + topics_em)))  \n",
    "\n",
    "output_file = \"perplexity_vs_topics.png\"\n",
    "plt.savefig(output_file, dpi=300) \n",
    "print(f\"Plot saved as {output_file}\")\n",
    "\n",
    "plt.tight_layout()\n",
    "plt.show()"
   ],
   "outputs": [
    {
     "name": "stdout",
     "output_type": "stream",
     "text": [
      "Plot saved as perplexity_vs_topics.png\n"
     ]
    },
    {
     "data": {
      "text/plain": [
       "<Figure size 1000x600 with 1 Axes>"
      ],
      "image/png": "[encoded data removed]"
     },
     "metadata": {},
     "output_type": "display_data"
    }
   ],
   "execution_count": 131
  },
  {
   "metadata": {},
   "cell_type": "markdown",
   "source": "# Use collapsed gibbs sampling first and then perform svm"
  },
  {
   "metadata": {},
   "cell_type": "markdown",
   "source": [
    "## experiments\n",
    "## proportion: [0.05, 0.1, 0.25, 0.4, 0.5, 0.75]"
   ]
  },
  {
   "metadata": {
    "ExecuteTime": {
     "end_time": "2024-12-08T04:54:17.828048Z",
     "start_time": "2024-12-08T04:54:17.822152Z"
    }
   },
   "cell_type": "code",
   "source": [
    "import random\n",
    "\n",
    "def split_training_and_testing_from_df(df, proportion):\n",
    "    # Calculate the number of samples for the training set\n",
    "    num_train_samples = int(len(df) * proportion)\n",
    "    \n",
    "    # Randomly sample indices for the training set\n",
    "    train_indices = random.sample(range(len(df)), num_train_samples)\n",
    "    \n",
    "    # Create training and testing DataFrames\n",
    "    train_df = df.iloc[train_indices]\n",
    "    test_df = df.drop(df.index[train_indices])  \n",
    "    \n",
    "    return train_df, test_df\n"
   ],
   "outputs": [],
   "execution_count": 105
  },
  {
   "metadata": {
    "ExecuteTime": {
     "end_time": "2024-12-08T04:54:21.085252Z",
     "start_time": "2024-12-08T04:54:21.080948Z"
    }
   },
   "cell_type": "code",
   "source": [
    "def construct_corpus_and_vocabulary(df_train, df_test):\n",
    "    train_clean_text = df_train[\"clean_text\"].tolist()\n",
    "    test_clean_text = df_test[\"clean_text\"].tolist()\n",
    "    train_corpus, train_word_to_id = construct_corpus(train_clean_text)\n",
    "    test_corpus = construct_corpus_with_training_vocab(test_clean_text, train_word_to_id)\n",
    "    return train_corpus, test_corpus, train_word_to_id\n",
    "\n",
    "def get_document_topic_distributions(corpus, C_dk, alpha)\n",
    "    num_topics = C_dk.shape[1]\n",
    "    doc_topic_distributions = (C_dk + alpha) / (C_dk.sum(axis=1, keepdims=True) + num_topics * alpha)\n",
    "    return doc_topic_distributions\n"
   ],
   "outputs": [],
   "execution_count": 106
  },
  {
   "metadata": {
    "ExecuteTime": {
     "end_time": "2024-12-08T20:19:01.739731Z",
     "start_time": "2024-12-08T19:36:45.566157Z"
    }
   },
   "cell_type": "code",
   "source": [
    "from sklearn.feature_extraction.text import CountVectorizer  # Use CountVectorizer for raw word features\n",
    "from sklearn.svm import SVC\n",
    "from sklearn.metrics import accuracy_score, classification_report\n",
    "\n",
    "proportions = [0.05, 0.1, 0.25, 0.4, 0.5, 0.75]\n",
    "lda_accuracies = []\n",
    "raw_word_accuracies = []\n",
    "\n",
    "# Train LDA and SVM for each training proportion\n",
    "for proportion in proportions:\n",
    "    print(f\"\\nTraining with {proportion * 100:.0f}% of the training data...\")\n",
    "\n",
    "    # Sample a proportion of the training data\n",
    "    train_set, test_set = split_training_and_testing_from_df(df, proportion)\n",
    "    train_corpus, test_corpus, train_word_to_id = construct_corpus_and_vocabulary(train_set, test_set)\n",
    "\n",
    "    # Train LDA on the sampled training data\n",
    "    num_topics = 10\n",
    "    alpha = 0.1\n",
    "    beta = 0.1\n",
    "    C_dk_train, C_kw, C_k, Z_train = LDA_collapsed_gibbs(\n",
    "        corpus=train_corpus,\n",
    "        vocab=train_word_to_id,\n",
    "        num_topics=num_topics,\n",
    "        alpha=alpha,\n",
    "        beta=beta,\n",
    "        n_iters=500\n",
    "    )\n",
    "\n",
    "    # Compute document-topic distributions for training data\n",
    "    doc_topic_train = get_document_topic_distributions(train_corpus, C_dk_train, alpha)\n",
    "\n",
    "    # For simplicity, test on the full dataset (test_corpus is all rows here)\n",
    "    C_dk_test = calculate_C_dk_test(\n",
    "        corpus_test=test_corpus,\n",
    "        num_topics=num_topics,\n",
    "        C_kw=C_kw,\n",
    "        C_k=C_k,\n",
    "        vocab_size_train=len(train_word_to_id),\n",
    "        alpha=alpha,\n",
    "        beta=beta,\n",
    "        n_iters=50\n",
    "    )\n",
    "    doc_topic_test = get_document_topic_distributions(test_corpus, C_dk_test, alpha)\n",
    "    \n",
    "    train_labels = train_set[\"labels\"].tolist()\n",
    "    test_labels = test_set[\"labels\"].tolist()\n",
    "\n",
    "    # Train SVM on LDA features\n",
    "    svm_lda = SVC(kernel='linear', random_state=42)\n",
    "    svm_lda.fit(doc_topic_train, train_labels)\n",
    "\n",
    "    # Predict and evaluate\n",
    "    y_pred_lda = svm_lda.predict(doc_topic_test)\n",
    "    lda_accuracy = accuracy_score(test_labels, y_pred_lda)\n",
    "    lda_accuracies.append(lda_accuracy)\n",
    "    print(f\"Accuracy for {proportion * 100:.0f}% training data (LDA features): {lda_accuracy:.4f}\")\n",
    "    \n",
    "    # Train SVM on raw word features\n",
    "    train_texts = train_set[\"clean_text\"].apply(lambda tokens: ' '.join(tokens)).tolist()\n",
    "    test_texts = test_set[\"clean_text\"].apply(lambda tokens: ' '.join(tokens)).tolist()\n",
    "\n",
    "    # Transform raw text into raw word count features\n",
    "    vectorizer = CountVectorizer(max_features=8000)  \n",
    "    X_train_raw = vectorizer.fit_transform(train_texts)\n",
    "    X_test_raw = vectorizer.transform(test_texts)\n",
    "\n",
    "    # Train SVM on raw word features\n",
    "    svm_word = SVC(kernel='linear', random_state=42)\n",
    "    svm_word.fit(X_train_raw, train_labels)\n",
    "\n",
    "    # Predict and evaluate on the test set\n",
    "    y_pred_word = svm_word.predict(X_test_raw)\n",
    "    raw_word_accuracy = accuracy_score(test_labels, y_pred_word)\n",
    "    raw_word_accuracies.append(raw_word_accuracy)\n",
    "\n",
    "    print(\"SVM with Raw Word Features\")\n",
    "    print(f\"Accuracy: {raw_word_accuracy:.4f}\")\n"
   ],
   "outputs": [
    {
     "name": "stdout",
     "output_type": "stream",
     "text": [
      "\n",
      "Training with 5% of the training data...\n"
     ]
    },
    {
     "name": "stderr",
     "output_type": "stream",
     "text": [
      "Gibbs Sampling: 100%|██████████| 500/500 [00:59<00:00,  8.47it/s]\n",
      "Gibbs Sampling for Test Set: 100%|██████████| 50/50 [01:11<00:00,  1.44s/it]\n"
     ]
    },
    {
     "name": "stdout",
     "output_type": "stream",
     "text": [
      "Accuracy for 5% training data (LDA features): 0.8619\n",
      "SVM with Raw Word Features\n",
      "Accuracy: 0.8268\n",
      "\n",
      "Training with 10% of the training data...\n"
     ]
    },
    {
     "name": "stderr",
     "output_type": "stream",
     "text": [
      "Gibbs Sampling: 100%|██████████| 500/500 [01:45<00:00,  4.73it/s]\n",
      "Gibbs Sampling for Test Set: 100%|██████████| 50/50 [01:12<00:00,  1.45s/it]\n"
     ]
    },
    {
     "name": "stdout",
     "output_type": "stream",
     "text": [
      "Accuracy for 10% training data (LDA features): 0.9264\n",
      "SVM with Raw Word Features\n",
      "Accuracy: 0.9018\n",
      "\n",
      "Training with 25% of the training data...\n"
     ]
    },
    {
     "name": "stderr",
     "output_type": "stream",
     "text": [
      "Gibbs Sampling: 100%|██████████| 500/500 [04:22<00:00,  1.90it/s]\n",
      "Gibbs Sampling for Test Set: 100%|██████████| 50/50 [01:05<00:00,  1.32s/it]\n"
     ]
    },
    {
     "name": "stdout",
     "output_type": "stream",
     "text": [
      "Accuracy for 25% training data (LDA features): 0.9311\n",
      "SVM with Raw Word Features\n",
      "Accuracy: 0.9411\n",
      "\n",
      "Training with 40% of the training data...\n"
     ]
    },
    {
     "name": "stderr",
     "output_type": "stream",
     "text": [
      "Gibbs Sampling: 100%|██████████| 500/500 [07:07<00:00,  1.17it/s]\n",
      "Gibbs Sampling for Test Set: 100%|██████████| 50/50 [00:53<00:00,  1.07s/it]\n"
     ]
    },
    {
     "name": "stdout",
     "output_type": "stream",
     "text": [
      "Accuracy for 40% training data (LDA features): 0.9444\n",
      "SVM with Raw Word Features\n",
      "Accuracy: 0.9554\n",
      "\n",
      "Training with 50% of the training data...\n"
     ]
    },
    {
     "name": "stderr",
     "output_type": "stream",
     "text": [
      "Gibbs Sampling: 100%|██████████| 500/500 [09:00<00:00,  1.08s/it]\n",
      "Gibbs Sampling for Test Set: 100%|██████████| 50/50 [00:44<00:00,  1.12it/s]\n"
     ]
    },
    {
     "name": "stdout",
     "output_type": "stream",
     "text": [
      "Accuracy for 50% training data (LDA features): 0.9455\n",
      "SVM with Raw Word Features\n",
      "Accuracy: 0.9615\n",
      "\n",
      "Training with 75% of the training data...\n"
     ]
    },
    {
     "name": "stderr",
     "output_type": "stream",
     "text": [
      "Gibbs Sampling: 100%|██████████| 500/500 [13:22<00:00,  1.60s/it]\n",
      "Gibbs Sampling for Test Set: 100%|██████████| 50/50 [00:22<00:00,  2.18it/s]\n"
     ]
    },
    {
     "name": "stdout",
     "output_type": "stream",
     "text": [
      "Accuracy for 75% training data (LDA features): 0.9586\n",
      "SVM with Raw Word Features\n",
      "Accuracy: 0.9624\n"
     ]
    }
   ],
   "execution_count": 121
  },
  {
   "metadata": {
    "ExecuteTime": {
     "end_time": "2024-12-08T21:38:44.059166Z",
     "start_time": "2024-12-08T21:38:44.051138Z"
    }
   },
   "cell_type": "code",
   "source": "lda_accuracies",
   "outputs": [
    {
     "data": {
      "text/plain": [
       "[0.8619495299356754,\n",
       " 0.9263707571801567,\n",
       " 0.931077694235589,\n",
       " 0.9444009397024276,\n",
       " 0.9454887218045113,\n",
       " 0.9586466165413534]"
      ]
     },
     "execution_count": 128,
     "metadata": {},
     "output_type": "execute_result"
    }
   ],
   "execution_count": 128
  },
  {
   "metadata": {
    "ExecuteTime": {
     "end_time": "2024-12-08T21:38:45.680107Z",
     "start_time": "2024-12-08T21:38:45.677296Z"
    }
   },
   "cell_type": "code",
   "source": "raw_word_accuracies",
   "outputs": [
    {
     "data": {
      "text/plain": [
       "[0.8268184067293419,\n",
       " 0.9018276762402089,\n",
       " 0.9411027568922306,\n",
       " 0.9553641346906813,\n",
       " 0.9614661654135338,\n",
       " 0.9624060150375939]"
      ]
     },
     "execution_count": 129,
     "metadata": {},
     "output_type": "execute_result"
    }
   ],
   "execution_count": 129
  },
  {
   "metadata": {
    "ExecuteTime": {
     "end_time": "2024-12-08T21:14:24.112639Z",
     "start_time": "2024-12-08T21:14:23.392031Z"
    }
   },
   "cell_type": "code",
   "source": [
    "plt.figure(figsize=(10, 6))\n",
    "plt.plot(proportions, lda_accuracies, marker='o', label='LDA Features')\n",
    "plt.plot(proportions, raw_word_accuracies, marker='s', label='Raw Word Features')\n",
    "\n",
    "plt.title('Accuracy vs Training Set Proportion', fontsize=16)\n",
    "plt.xlabel('Training Set Proportion', fontsize=14)\n",
    "plt.ylabel('Accuracy', fontsize=14)\n",
    "plt.xticks(proportions, [f\"{p*100:.0f}%\" for p in proportions])  \n",
    "plt.ylim(0.5, 1.0) \n",
    "plt.grid(True, linestyle='--', alpha=0.7)\n",
    "plt.legend(fontsize=12)\n",
    "plt.tight_layout()\n",
    "\n",
    "plot_filename = \"accuracy_vs_training_proportion.png\" \n",
    "plt.savefig(plot_filename, dpi=300)  \n",
    "print(f\"Plot saved as {plot_filename}\")\n",
    "\n",
    "plt.show()"
   ],
   "outputs": [
    {
     "name": "stdout",
     "output_type": "stream",
     "text": [
      "Plot saved as accuracy_vs_training_proportion.png\n"
     ]
    },
    {
     "data": {
      "text/plain": [
       "<Figure size 1000x600 with 1 Axes>"
      ],
      "image/png": "[encoded data removed]"
     },
     "metadata": {},
     "output_type": "display_data"
    }
   ],
   "execution_count": 127
  },
  {
   "metadata": {
    "ExecuteTime": {
     "end_time": "2024-12-08T20:35:07.126352Z",
     "start_time": "2024-12-08T20:35:07.117007Z"
    }
   },
   "cell_type": "code",
   "source": "X_train_raw.shape",
   "outputs": [
    {
     "data": {
      "text/plain": [
       "(1595, 8000)"
      ]
     },
     "execution_count": 124,
     "metadata": {},
     "output_type": "execute_result"
    }
   ],
   "execution_count": 124
  },
  {
   "metadata": {
    "ExecuteTime": {
     "end_time": "2024-12-08T20:35:08.330673Z",
     "start_time": "2024-12-08T20:35:08.327449Z"
    }
   },
   "cell_type": "code",
   "source": "doc_topic_train.shape",
   "outputs": [
    {
     "data": {
      "text/plain": [
       "(1595, 10)"
      ]
     },
     "execution_count": 125,
     "metadata": {},
     "output_type": "execute_result"
    }
   ],
   "execution_count": 125
  },
  {
   "metadata": {
    "ExecuteTime": {
     "end_time": "2024-12-08T19:29:49.202099Z",
     "start_time": "2024-12-08T19:29:49.180064Z"
    }
   },
   "cell_type": "code",
   "source": [
    "X_train_raw_dense = X_train_raw[:5].toarray() \n",
    "print(X_train_raw_dense)"
   ],
   "outputs": [
    {
     "name": "stdout",
     "output_type": "stream",
     "text": [
      "[[0 0 0 ... 0 0 0]\n",
      " [0 0 0 ... 0 0 1]\n",
      " [0 0 0 ... 0 0 0]\n",
      " [0 0 0 ... 0 0 0]\n",
      " [0 0 0 ... 0 0 0]]\n"
     ]
    }
   ],
   "execution_count": 118
  },
  {
   "metadata": {},
   "cell_type": "markdown",
   "source": [
    "# Smoothed LDA\n",
    "\n",
    "not include in the final report"
   ]
  },
  {
   "metadata": {},
   "cell_type": "code",
   "outputs": [],
   "execution_count": null,
   "source": [
    "docs = train_corpus      \n",
    "W = len(train_word_to_id)\n",
    "k = K  # number of topics\n",
    "N = np.array([sum(freq for _, freq in doc) for doc in train_corpus]) \n",
    "D = len(docs)\n",
    "\n",
    "alpha = np.random.gamma(100, 0.01, k)\n",
    "eta = np.ones(W)\n",
    "\n",
    "# initialize variational parameters\n",
    "# ϕ: (M x max(N) x k) arrays with zero paddings on the right\n",
    "phi = [np.ones((N[d], k)) / k for d in range(D)]\n",
    "gamma = alpha + (N / k).reshape(-1, 1)\n",
    "lam = np.random.gamma(shape=100, scale=0.01, size=(k, W))\n",
    "    \n",
    "    \n",
    "def update_phi(D, N, k, phi, gamma, docs):\n",
    "    \"\"\"\n",
    "    Update variational parameter phi\n",
    "    ϕ_{n, j} ∝ e^[ (Ψ(λ_j) - Ψ(Σλ_j)) + ( Ψ(γ_j) - Ψ(Σγ_j) ) ]\n",
    "    \"\"\"\n",
    "\n",
    "    for d in range(D):\n",
    "        for n in range(N[d]):\n",
    "            for i in range(k):\n",
    "                w_n = int(docs[d][n])\n",
    "                phi[d][n, i] = np.exp(dl(lam, i, w_n) + dg(gamma, d, i))\n",
    "\n",
    "            # Normalize over topics\n",
    "            phi[d][n, :] = phi[d][n, :] / np.sum(phi[d][n, :])\n",
    "            \n",
    "    return phi\n",
    "\n",
    "def update_gamma(D, phi, alpha):\n",
    "    \"\"\"\n",
    "    Update variational parameter gamma\n",
    "    γ_t = α_t + Σ_{n=1}^{N_d} ϕ_{t, n}\n",
    "    \"\"\"\n",
    "\n",
    "    gamma = alpha + np.array(\n",
    "        list(map(lambda x: x.sum(axis=0), phi))\n",
    "    )\n",
    "    \n",
    "    return gamma\n",
    "\n",
    "\n",
    "def update_lam(W, N, D, phi, lam, eta, docs):\n",
    "    \n",
    "    lam[:] = eta\n",
    "    for d in range(D):  #, desc=\"MINORIZE lam\"):\n",
    "        doc = np.zeros(N[d] * W, dtype=int)\n",
    "        doc[np.arange(0, N[d] * W, W) + docs[d]] = 1\n",
    "        doc = doc.reshape(-1, W)\n",
    "        \n",
    "        lam += phi[d].T @ doc\n",
    "    \n",
    "    return lam\n",
    "    \n",
    "\n",
    "def update_alpha(D, k, old_alpha, gamma, max_iter=1000, tol=0.1):\n",
    "    \"\"\"\n",
    "    Update alpha with linear time Newton-Raphson.\n",
    "    \"\"\"\n",
    "\n",
    "    alpha = old_alpha\n",
    "\n",
    "    for _ in range(max_iter):\n",
    "        alpha_old = alpha\n",
    "\n",
    "        #  Calculate gradient\n",
    "        g = D * (psi(np.sum(alpha)) - psi(alpha)) +\\\n",
    "            (psi(gamma) - psi(np.sum(gamma, axis=1)).reshape(-1, 1)).sum(axis=0)\n",
    "\n",
    "        #  Calculate Hessian diagonal component\n",
    "        h = -D * polygamma(1, alpha)\n",
    "\n",
    "        #  Calculate Hessian constant component\n",
    "        z = D * polygamma(1, np.sum(alpha))\n",
    "\n",
    "        #  Calculate constant\n",
    "        c = np.sum(g / h) / (z ** (-1.0) + np.sum(h ** (-1.0)))\n",
    "\n",
    "        #  Update alpha\n",
    "        alpha = alpha - (g - c) / h\n",
    "        \n",
    "        #  Check convergence\n",
    "        if np.sqrt(np.mean(np.square(alpha - alpha_old))) < tol:\n",
    "            break\n",
    "    else:\n",
    "        warnings.warn(\"_update_alpha(): max_iter reached.\")\n",
    "\n",
    "    return alpha\n",
    "\n",
    "\n",
    "def update_eta(D, k, old_eta, lam, max_iter=1000, tol=0.1):\n",
    "    \"\"\"\n",
    "    Update eta with linear time Newton-Raphson.\n",
    "    \"\"\"\n",
    "    eta = old_eta\n",
    "\n",
    "    for _ in range(max_iter):\n",
    "        eta_old = eta\n",
    "\n",
    "        #  Calculate gradient\n",
    "        g = k * (psi(np.sum(eta)) - psi(eta)) +\\\n",
    "            (psi(lam) - psi(np.sum(lam, axis=1)).reshape(-1, 1)).sum(axis=0)\n",
    "\n",
    "        #  Calculate Hessian diagonal component\n",
    "        h = -k * polygamma(1, eta)\n",
    "\n",
    "        #  Calculate Hessian constant component\n",
    "        z = k * polygamma(1, np.sum(eta))\n",
    "\n",
    "        #  Calculate constant\n",
    "        c = np.sum(g / h) / (z ** (-1.0) + np.sum(h ** (-1.0)))\n",
    "\n",
    "        #  Update alpha\n",
    "        eta = eta - (g - c) / h\n",
    "\n",
    "        #  Check convergence\n",
    "        if np.sqrt(np.mean(np.square(eta - eta_old))) < tol:\n",
    "            break\n",
    "    else:\n",
    "        warnings.warn(\"_update_eta(): max_iter reached.\")\n",
    "\n",
    "    return eta\n",
    "\n",
    "\n",
    "def E_step(D, N, k, eta, alpha, old_phi, old_gamma, old_lam, docs):\n",
    "    \"\"\"\n",
    "    E-step of the variational EM algorithm.\n",
    "    Update ϕ, γ, λ.\n",
    "    \"\"\"\n",
    "    phi = update_phi(D, N, k, old_phi, old_gamma, docs)\n",
    "    gamma = update_gamma(D, phi, alpha)\n",
    "    lam = update_lam(W, N, D, phi, old_lam, eta, docs)\n",
    "    return phi, gamma, lam\n",
    "    \n",
    "    \n",
    "def M_step(D, k, gamma, old_alpha, old_eta):\n",
    "    \"\"\"\n",
    "    M-step of the variational EM algorithm.\n",
    "    Update α, η.\n",
    "    \"\"\"\n",
    "    alpha = update_alpha(D, k, old_alpha, gamma)\n",
    "    eta = update_eta(D, k, old_eta)\n",
    "    return alpha, eta\n",
    "\n",
    "\n",
    "def vlb(D, N, k, phi, gamma, lam, alpha, eta, docs):\n",
    "    \"\"\"\n",
    "    lower bound from variational inference\n",
    "    \"\"\"\n",
    "    \n",
    "    a0, a1, a2, a3_1, a3_2, a4, a5 = 0., 0., 0., 0., 0., 0., 0.\n",
    "    for d in range(D):\n",
    "        a0 += (\n",
    "            k * (\n",
    "                gammaln(np.sum(eta)) \n",
    "                - np.sum(gammaln(eta))\n",
    "            )\n",
    "            + np.sum([(eta[j] - 1) * dl(lam, i, j) for j in range(W) for i in range(k)])\n",
    "        )\n",
    "        a1 += (\n",
    "            gammaln(np.sum(alpha))\n",
    "            - np.sum(gammaln(alpha))\n",
    "            + np.sum([(alpha[i] - 1) * dg(gamma, d, i) for i in range(k)])\n",
    "        )\n",
    "\n",
    "        a4 += (\n",
    "            gammaln(np.sum(gamma[d, :]))\n",
    "            - np.sum(gammaln(gamma[d, :]))\n",
    "            + np.sum([(gamma[d, i] - 1) * dg(gamma, d, i) for i in range(k)])\n",
    "        )\n",
    "        \n",
    "        for i in range(k):\n",
    "            for j in range(W):\n",
    "                a3_2 += (\n",
    "                    gammaln(np.sum(lam[i, j]))\n",
    "                    - np.sum(gammaln(lam[i, :]))\n",
    "                    + np.sum((lam[i, j] - 1) * dl(lam, i, j))\n",
    "                )\n",
    "\n",
    "        for n in range(N[d]):\n",
    "            w_n = int(docs[d][n])\n",
    "            a2 += np.sum([phi[d][n, i] * dg(gamma, d, i) for i in range(k)])\n",
    "            a3_1 += np.sum([phi[d][n, i] * dl(lam, i, w_n) for i in range(k)])\n",
    "            a5 += np.sum([phi[d][n, i] * np.log(phi[d][n, i]) for i in range(k)])\n",
    "\n",
    "    return a0 + a1 + a2 + a3_1 - a3_2 - a4 - a5\n",
    "\n",
    "\n",
    "def smoothLDA(max_iter=1000, tol=5, verbose=True):\n",
    "    vlb = -np.inf\n",
    "    \n",
    "    for it in range(max_iter):\n",
    "        old_vlb = vlb\n",
    "        phi, gamma, lam = E_step(D, N, k, eta, alpha, phi, gamma, lam, docs)\n",
    "        alpha, eta = M_step(D, k, gamma, alpha, eta)\n",
    "        \n",
    "        vlb = vlb(D, N, k, phi, gamma, lam, alpha, eta, docs)\n",
    "        err = vlb - old_vlb\n",
    "        \n",
    "        if verbose:\n",
    "            print(f\"Iteration {it+1}: {vlb: .3f} (delta: {err: .2f})\") \n",
    "        \n",
    "        if err < tol:\n",
    "            break\n",
    "    else:\n",
    "        warnings.warn(\"max_iter reached.\")"
   ]
  }
 ]
}
