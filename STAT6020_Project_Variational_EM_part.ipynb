{
  "cells": [
    {
      "cell_type": "markdown",
      "metadata": {
        "id": "njFhL2rlypIu"
      },
      "source": [
        "# Variational EM Algorithm Part"
      ]
    },
    {
      "cell_type": "markdown",
      "metadata": {
        "id": "Fj2JNDtvxE23"
      },
      "source": [
        "# Upload preprocessed dataset"
      ]
    },
    {
      "cell_type": "code",
      "execution_count": 1,
      "metadata": {
        "colab": {
          "base_uri": "https://localhost:8080/"
        },
        "id": "PVfO3SuKX0fW",
        "outputId": "c08d9cd5-95cf-4b7a-a1b7-71b6f1a57e29"
      },
      "outputs": [
        {
          "output_type": "stream",
          "name": "stdout",
          "text": [
            "Shape of training set: (1702, 3)\n",
            "Shape of testing set: (425, 3)\n"
          ]
        }
      ],
      "source": [
        "import pickle\n",
        "\n",
        "with open('df_train.pkl', 'rb') as file:\n",
        "    df_train = pickle.load(file)\n",
        "\n",
        "with open('df_test.pkl', 'rb') as file:\n",
        "    df_test = pickle.load(file)\n",
        "\n",
        "\n",
        "print(f\"Shape of training set: {df_train.shape}\")\n",
        "print(f\"Shape of testing set: {df_test.shape}\")"
      ]
    },
    {
      "cell_type": "code",
      "execution_count": 2,
      "metadata": {
        "colab": {
          "base_uri": "https://localhost:8080/",
          "height": 206
        },
        "id": "On-d7IDnaaDS",
        "outputId": "8477a6d4-21dc-4829-bf50-ace19929f4c7"
      },
      "outputs": [
        {
          "output_type": "execute_result",
          "data": {
            "text/plain": [
              "                                                text    labels  \\\n",
              "0  EU 'too slow' on economic reforms\\n\\nMost EU c...  business   \n",
              "1  BBC web search aids odd queries\\n\\nThe BBC's o...      tech   \n",
              "2  Serena becomes world number two\\n\\nSerena Will...     sport   \n",
              "3  Boothroyd calls for Lords speaker\\n\\nBetty Boo...  politics   \n",
              "4  Fast lifts rise into record books\\n\\nTwo high-...      tech   \n",
              "\n",
              "                                          clean_text  \n",
              "0  [eu, slow, economic, reform, eu, country, fail...  \n",
              "1  [bbc, web, search, aid, odd, query, bbc, onlin...  \n",
              "2  [serena, becomes, world, number, serena, willi...  \n",
              "3  [boothroyd, call, lord, speaker, betty, boothr...  \n",
              "4  [fast, lift, rise, record, book, lift, world, ...  "
            ],
            "text/html": [
              "\n",
              "  <div id=\"df-a341d3be-3fc8-4a43-ba73-bf5fe971e188\" class=\"colab-df-container\">\n",
              "    <div>\n",
              "<style scoped>\n",
              "    .dataframe tbody tr th:only-of-type {\n",
              "        vertical-align: middle;\n",
              "    }\n",
              "\n",
              "    .dataframe tbody tr th {\n",
              "        vertical-align: top;\n",
              "    }\n",
              "\n",
              "    .dataframe thead th {\n",
              "        text-align: right;\n",
              "    }\n",
              "</style>\n",
              "<table border=\"1\" class=\"dataframe\">\n",
              "  <thead>\n",
              "    <tr style=\"text-align: right;\">\n",
              "      <th></th>\n",
              "      <th>text</th>\n",
              "      <th>labels</th>\n",
              "      <th>clean_text</th>\n",
              "    </tr>\n",
              "  </thead>\n",
              "  <tbody>\n",
              "    <tr>\n",
              "      <th>0</th>\n",
              "      <td>EU 'too slow' on economic reforms\\n\\nMost EU c...</td>\n",
              "      <td>business</td>\n",
              "      <td>[eu, slow, economic, reform, eu, country, fail...</td>\n",
              "    </tr>\n",
              "    <tr>\n",
              "      <th>1</th>\n",
              "      <td>BBC web search aids odd queries\\n\\nThe BBC's o...</td>\n",
              "      <td>tech</td>\n",
              "      <td>[bbc, web, search, aid, odd, query, bbc, onlin...</td>\n",
              "    </tr>\n",
              "    <tr>\n",
              "      <th>2</th>\n",
              "      <td>Serena becomes world number two\\n\\nSerena Will...</td>\n",
              "      <td>sport</td>\n",
              "      <td>[serena, becomes, world, number, serena, willi...</td>\n",
              "    </tr>\n",
              "    <tr>\n",
              "      <th>3</th>\n",
              "      <td>Boothroyd calls for Lords speaker\\n\\nBetty Boo...</td>\n",
              "      <td>politics</td>\n",
              "      <td>[boothroyd, call, lord, speaker, betty, boothr...</td>\n",
              "    </tr>\n",
              "    <tr>\n",
              "      <th>4</th>\n",
              "      <td>Fast lifts rise into record books\\n\\nTwo high-...</td>\n",
              "      <td>tech</td>\n",
              "      <td>[fast, lift, rise, record, book, lift, world, ...</td>\n",
              "    </tr>\n",
              "  </tbody>\n",
              "</table>\n",
              "</div>\n",
              "    <div class=\"colab-df-buttons\">\n",
              "\n",
              "  <div class=\"colab-df-container\">\n",
              "    <button class=\"colab-df-convert\" onclick=\"convertToInteractive('df-a341d3be-3fc8-4a43-ba73-bf5fe971e188')\"\n",
              "            title=\"Convert this dataframe to an interactive table.\"\n",
              "            style=\"display:none;\">\n",
              "\n",
              "  <svg xmlns=\"http://www.w3.org/2000/svg\" height=\"24px\" viewBox=\"0 -960 960 960\">\n",
              "    <path d=\"M120-120v-720h720v720H120Zm60-500h600v-160H180v160Zm220 220h160v-160H400v160Zm0 220h160v-160H400v160ZM180-400h160v-160H180v160Zm440 0h160v-160H620v160ZM180-180h160v-160H180v160Zm440 0h160v-160H620v160Z\"/>\n",
              "  </svg>\n",
              "    </button>\n",
              "\n",
              "  <style>\n",
              "    .colab-df-container {\n",
              "      display:flex;\n",
              "      gap: 12px;\n",
              "    }\n",
              "\n",
              "    .colab-df-convert {\n",
              "      background-color: #E8F0FE;\n",
              "      border: none;\n",
              "      border-radius: 50%;\n",
              "      cursor: pointer;\n",
              "      display: none;\n",
              "      fill: #1967D2;\n",
              "      height: 32px;\n",
              "      padding: 0 0 0 0;\n",
              "      width: 32px;\n",
              "    }\n",
              "\n",
              "    .colab-df-convert:hover {\n",
              "      background-color: #E2EBFA;\n",
              "      box-shadow: 0px 1px 2px rgba(60, 64, 67, 0.3), 0px 1px 3px 1px rgba(60, 64, 67, 0.15);\n",
              "      fill: #174EA6;\n",
              "    }\n",
              "\n",
              "    .colab-df-buttons div {\n",
              "      margin-bottom: 4px;\n",
              "    }\n",
              "\n",
              "    [theme=dark] .colab-df-convert {\n",
              "      background-color: #3B4455;\n",
              "      fill: #D2E3FC;\n",
              "    }\n",
              "\n",
              "    [theme=dark] .colab-df-convert:hover {\n",
              "      background-color: #434B5C;\n",
              "      box-shadow: 0px 1px 3px 1px rgba(0, 0, 0, 0.15);\n",
              "      filter: drop-shadow(0px 1px 2px rgba(0, 0, 0, 0.3));\n",
              "      fill: #FFFFFF;\n",
              "    }\n",
              "  </style>\n",
              "\n",
              "    <script>\n",
              "      const buttonEl =\n",
              "        document.querySelector('#df-a341d3be-3fc8-4a43-ba73-bf5fe971e188 button.colab-df-convert');\n",
              "      buttonEl.style.display =\n",
              "        google.colab.kernel.accessAllowed ? 'block' : 'none';\n",
              "\n",
              "      async function convertToInteractive(key) {\n",
              "        const element = document.querySelector('#df-a341d3be-3fc8-4a43-ba73-bf5fe971e188');\n",
              "        const dataTable =\n",
              "          await google.colab.kernel.invokeFunction('convertToInteractive',\n",
              "                                                    [key], {});\n",
              "        if (!dataTable) return;\n",
              "\n",
              "        const docLinkHtml = 'Like what you see? Visit the ' +\n",
              "          '<a target=\"_blank\" href=https://colab.research.google.com/notebooks/data_table.ipynb>data table notebook</a>'\n",
              "          + ' to learn more about interactive tables.';\n",
              "        element.innerHTML = '';\n",
              "        dataTable['output_type'] = 'display_data';\n",
              "        await google.colab.output.renderOutput(dataTable, element);\n",
              "        const docLink = document.createElement('div');\n",
              "        docLink.innerHTML = docLinkHtml;\n",
              "        element.appendChild(docLink);\n",
              "      }\n",
              "    </script>\n",
              "  </div>\n",
              "\n",
              "\n",
              "<div id=\"df-2cb3ae1a-2f7d-4118-bb7c-3729c134a951\">\n",
              "  <button class=\"colab-df-quickchart\" onclick=\"quickchart('df-2cb3ae1a-2f7d-4118-bb7c-3729c134a951')\"\n",
              "            title=\"Suggest charts\"\n",
              "            style=\"display:none;\">\n",
              "\n",
              "<svg xmlns=\"http://www.w3.org/2000/svg\" height=\"24px\"viewBox=\"0 0 24 24\"\n",
              "     width=\"24px\">\n",
              "    <g>\n",
              "        <path d=\"M19 3H5c-1.1 0-2 .9-2 2v14c0 1.1.9 2 2 2h14c1.1 0 2-.9 2-2V5c0-1.1-.9-2-2-2zM9 17H7v-7h2v7zm4 0h-2V7h2v10zm4 0h-2v-4h2v4z\"/>\n",
              "    </g>\n",
              "</svg>\n",
              "  </button>\n",
              "\n",
              "<style>\n",
              "  .colab-df-quickchart {\n",
              "      --bg-color: #E8F0FE;\n",
              "      --fill-color: #1967D2;\n",
              "      --hover-bg-color: #E2EBFA;\n",
              "      --hover-fill-color: #174EA6;\n",
              "      --disabled-fill-color: #AAA;\n",
              "      --disabled-bg-color: #DDD;\n",
              "  }\n",
              "\n",
              "  [theme=dark] .colab-df-quickchart {\n",
              "      --bg-color: #3B4455;\n",
              "      --fill-color: #D2E3FC;\n",
              "      --hover-bg-color: #434B5C;\n",
              "      --hover-fill-color: #FFFFFF;\n",
              "      --disabled-bg-color: #3B4455;\n",
              "      --disabled-fill-color: #666;\n",
              "  }\n",
              "\n",
              "  .colab-df-quickchart {\n",
              "    background-color: var(--bg-color);\n",
              "    border: none;\n",
              "    border-radius: 50%;\n",
              "    cursor: pointer;\n",
              "    display: none;\n",
              "    fill: var(--fill-color);\n",
              "    height: 32px;\n",
              "    padding: 0;\n",
              "    width: 32px;\n",
              "  }\n",
              "\n",
              "  .colab-df-quickchart:hover {\n",
              "    background-color: var(--hover-bg-color);\n",
              "    box-shadow: 0 1px 2px rgba(60, 64, 67, 0.3), 0 1px 3px 1px rgba(60, 64, 67, 0.15);\n",
              "    fill: var(--button-hover-fill-color);\n",
              "  }\n",
              "\n",
              "  .colab-df-quickchart-complete:disabled,\n",
              "  .colab-df-quickchart-complete:disabled:hover {\n",
              "    background-color: var(--disabled-bg-color);\n",
              "    fill: var(--disabled-fill-color);\n",
              "    box-shadow: none;\n",
              "  }\n",
              "\n",
              "  .colab-df-spinner {\n",
              "    border: 2px solid var(--fill-color);\n",
              "    border-color: transparent;\n",
              "    border-bottom-color: var(--fill-color);\n",
              "    animation:\n",
              "      spin 1s steps(1) infinite;\n",
              "  }\n",
              "\n",
              "  @keyframes spin {\n",
              "    0% {\n",
              "      border-color: transparent;\n",
              "      border-bottom-color: var(--fill-color);\n",
              "      border-left-color: var(--fill-color);\n",
              "    }\n",
              "    20% {\n",
              "      border-color: transparent;\n",
              "      border-left-color: var(--fill-color);\n",
              "      border-top-color: var(--fill-color);\n",
              "    }\n",
              "    30% {\n",
              "      border-color: transparent;\n",
              "      border-left-color: var(--fill-color);\n",
              "      border-top-color: var(--fill-color);\n",
              "      border-right-color: var(--fill-color);\n",
              "    }\n",
              "    40% {\n",
              "      border-color: transparent;\n",
              "      border-right-color: var(--fill-color);\n",
              "      border-top-color: var(--fill-color);\n",
              "    }\n",
              "    60% {\n",
              "      border-color: transparent;\n",
              "      border-right-color: var(--fill-color);\n",
              "    }\n",
              "    80% {\n",
              "      border-color: transparent;\n",
              "      border-right-color: var(--fill-color);\n",
              "      border-bottom-color: var(--fill-color);\n",
              "    }\n",
              "    90% {\n",
              "      border-color: transparent;\n",
              "      border-bottom-color: var(--fill-color);\n",
              "    }\n",
              "  }\n",
              "</style>\n",
              "\n",
              "  <script>\n",
              "    async function quickchart(key) {\n",
              "      const quickchartButtonEl =\n",
              "        document.querySelector('#' + key + ' button');\n",
              "      quickchartButtonEl.disabled = true;  // To prevent multiple clicks.\n",
              "      quickchartButtonEl.classList.add('colab-df-spinner');\n",
              "      try {\n",
              "        const charts = await google.colab.kernel.invokeFunction(\n",
              "            'suggestCharts', [key], {});\n",
              "      } catch (error) {\n",
              "        console.error('Error during call to suggestCharts:', error);\n",
              "      }\n",
              "      quickchartButtonEl.classList.remove('colab-df-spinner');\n",
              "      quickchartButtonEl.classList.add('colab-df-quickchart-complete');\n",
              "    }\n",
              "    (() => {\n",
              "      let quickchartButtonEl =\n",
              "        document.querySelector('#df-2cb3ae1a-2f7d-4118-bb7c-3729c134a951 button');\n",
              "      quickchartButtonEl.style.display =\n",
              "        google.colab.kernel.accessAllowed ? 'block' : 'none';\n",
              "    })();\n",
              "  </script>\n",
              "</div>\n",
              "\n",
              "    </div>\n",
              "  </div>\n"
            ],
            "application/vnd.google.colaboratory.intrinsic+json": {
              "type": "dataframe",
              "variable_name": "df",
              "summary": "{\n  \"name\": \"df\",\n  \"rows\": 2127,\n  \"fields\": [\n    {\n      \"column\": \"text\",\n      \"properties\": {\n        \"dtype\": \"string\",\n        \"num_unique_values\": 2127,\n        \"samples\": [\n          \"Ministers 'naive' over phone-taps\\n\\nThe government is being naive by refusing to allow phone-tap evidence in court, a senior EU politician says.\\n\\nJavier Solana, EU foreign policy chief, says phone-tap evidence works in the courts of other European countries. Human rights groups, top police officers and many MPs say allowing the evidence would remove the need to detain terror suspects without charge. But Home Secretary Charles Clarke says the evidence would not make much difference to these cases. Mr Solana told ITV1's Jonathan Dimbleby programme: \\\"[Phone-tap evidence in court] works, it is normal that it is done, it would be naive not to do it. \\\"It would be naive not to use this technological thing that we have at our disposal.\\\" Mr Solana's comments come the day after Sir Ian Blair, the newly-appointed Metropolitan Police commissioner, said he was in favour of phone-tap evidence.\\n\\nUnder the Anti-Terrorism Crimes and Security Act 2001, foreign terror suspects can be detained in British jails without trial or charge. Several suspects have been detained under these powers because evidence against them was deemed too sensitive to be heard in court.\\n\\nSome of this evidence is believed to be telephone intercepts. Human Rights group Liberty has argued that if intercept evidence could be heard, these detainees could be brought to trial. But critics of phone-tap trials say the evidence is often weak and can expose the methods of the security services. The home secretary says intercepts would not make much difference because cases against terror suspects frequently rely on other kinds of surveillance. But Mr Clarke has been forced to change the regime of detention without trial after Law Lords ruled it illegal. He has opted for a system of \\\"control orders\\\" whereby suspects, both British and foreign, can be held under house arrest or surveillance. These orders will again involve a UK opt-out of parts of the European Convention on Human Rights. While accepting that people \\\"have to be prepared\\\" for a possible terrorist attack, Mr Solana said he had \\\"qualms\\\" about the home secretary's new plans. \\\"We have to fight terrorism with all our means, but not so far as to change our way of life,\\\" he said.\",\n          \"Barkley fit for match in Ireland\\n\\nEngland centre Olly Barkley has been passed fit for Sunday's Six Nations clash with Ireland at Lansdowne Road.\\n\\nBarkley withdrew from Bath's team for Friday's clash with Gloucester after suffering a calf injury in training. Gloucester centre Henry Paul has also been cleared to play after overcoming an ankle injury. England coach Andy Robinson, who names his team on Wednesday, has called up Bath prop Duncan Bell following Phil Vickery's broken arm. With Vickery sidelined for at least six weeks and Julian White out with a neck injury, Bell could make his England debut. Bell, 30, had set his sights on an international career with Wales. But last December, the International Rugby Board confirmed that he could only be eligible for England as he had travelled on tour with them in 1998. \\\"I thought I'd burned all my bridges with England when I expressed an interest in wanting to play for Wales, so it's fantastic to get this opportunity,\\\" he said. Bell, who featured in the England A side which beat France 30-20 10 days ago, added: \\\"I recognise that I got into the England A squad because of injuries. \\\"And it's the same again in getting into the senior squad. But now that I have this opportunity I intend to take it fully if selected and play my heart out for my country.\\\"\\n\\nEngland coach Andy Robinson could take a gamble and call inexperienced Sale Sharks prop Andrew Sheridan into his front row. But Sheridan favours the loosehead side of the scrum and a more likely scenario is for uncapped Bell - who was among the try-scorers when England A beat France A 30-20 nine days ago - to be drafted in.\",\n          \"Deutsche Telekom sees mobile gain\\n\\nGerman telecoms firm Deutsche Telekom saw strong fourth quarter profits on the back of upbeat US mobile earnings and better-than-expected asset sales.\\n\\nNet profit came in at 1.4bn euros (\\u00a3960m; $1.85bn), a dramatic change from the loss of 364m euros in 2003. Sales rose 2.8% to 14.96bn euros. Sales of stakes in firms including Russia's OAO Mobile Telesystems raised 1.17bn euros. This was more than expected and helped to bring debt down to 35.8bn euros.\\n\\nA year ago, debt was more than 11bn euros higher. T-Mobile USA, the company's American mobile business, made a strong contribution to profits. \\\"It's a seminal achievement that they cut debt so low. That gives them some head room to invest in growth now,\\\" said Hannes Wittig, telecoms analyst at Dresdner Kleinwort Wasserstein. The company also said it would resume paying a dividend, after two years in which it focused on cutting debt.\"\n        ],\n        \"semantic_type\": \"\",\n        \"description\": \"\"\n      }\n    },\n    {\n      \"column\": \"labels\",\n      \"properties\": {\n        \"dtype\": \"category\",\n        \"num_unique_values\": 5,\n        \"samples\": [\n          \"tech\",\n          \"entertainment\",\n          \"sport\"\n        ],\n        \"semantic_type\": \"\",\n        \"description\": \"\"\n      }\n    },\n    {\n      \"column\": \"clean_text\",\n      \"properties\": {\n        \"dtype\": \"object\",\n        \"semantic_type\": \"\",\n        \"description\": \"\"\n      }\n    }\n  ]\n}"
            }
          },
          "metadata": {},
          "execution_count": 2
        }
      ],
      "source": [
        "import pandas as pd\n",
        "df = pd.concat([df_train, df_test], axis=0).reset_index(drop=True)\n",
        "df.head()"
      ]
    },
    {
      "cell_type": "code",
      "execution_count": 3,
      "metadata": {
        "id": "vd934CoXG3ZL"
      },
      "outputs": [],
      "source": [
        "train_clean_text = df_train['clean_text'].tolist()\n",
        "test_clean_text = df_test['clean_text'].tolist()"
      ]
    },
    {
      "cell_type": "code",
      "execution_count": 4,
      "metadata": {
        "colab": {
          "base_uri": "https://localhost:8080/"
        },
        "id": "kXhOd6pfHCOK",
        "outputId": "d0581cb6-4c97-47bb-88f8-c06f0879ae36"
      },
      "outputs": [
        {
          "output_type": "stream",
          "name": "stdout",
          "text": [
            "Number of documents in training set: 1702\n",
            "Number of unique words in training set: 21927\n",
            "Number of documents in test set: 425\n"
          ]
        }
      ],
      "source": [
        "from collections import Counter\n",
        "\n",
        "def construct_corpus(clean_text):\n",
        "    word_to_id = {}  # Store unique word-ID pairs\n",
        "    current_id = 0\n",
        "    for text in clean_text:\n",
        "        for word in text:\n",
        "            if word not in word_to_id:\n",
        "                word_to_id[word] = current_id\n",
        "                current_id += 1\n",
        "\n",
        "    corpus = []\n",
        "    for text in clean_text:\n",
        "        word_counts = Counter(text)\n",
        "        count_freq = [(word_to_id[word], freq) for word, freq in word_counts.items()]\n",
        "        corpus.append(count_freq)\n",
        "\n",
        "    return corpus, word_to_id\n",
        "\n",
        "train_corpus, train_word_to_id = construct_corpus(train_clean_text)\n",
        "\n",
        "\n",
        "print(f\"Number of documents in training set: {len(train_corpus)}\")\n",
        "print(f\"Number of unique words in training set: {len(train_word_to_id)}\")\n",
        "\n",
        "\n",
        "# construct the testing set corpus using the training vocabulary encoding index to make sure word indexes are consistent\n",
        "def construct_corpus_with_training_vocab(clean_text, word_to_id):\n",
        "    corpus = []\n",
        "    for text in clean_text:\n",
        "        word_counts = Counter(text)\n",
        "        count_freq = [\n",
        "            (word_to_id[word], freq) for word, freq in word_counts.items() if word in word_to_id\n",
        "        ]\n",
        "        corpus.append(count_freq)\n",
        "    return corpus\n",
        "\n",
        "test_corpus = construct_corpus_with_training_vocab(test_clean_text, train_word_to_id)\n",
        "print(f\"Number of documents in test set: {len(test_corpus)}\")"
      ]
    },
    {
      "cell_type": "code",
      "execution_count": 5,
      "metadata": {
        "colab": {
          "base_uri": "https://localhost:8080/"
        },
        "id": "wZB20jbvrMLO",
        "outputId": "b0aed0fc-6507-4bbd-aea9-c55a44cba0dd"
      },
      "outputs": [
        {
          "output_type": "stream",
          "name": "stderr",
          "text": [
            "2024-12-09 18:15:18,843 - INFO - Logging configured in Jupyter.\n"
          ]
        }
      ],
      "source": [
        "from scipy.special import psi, polygamma, gammaln\n",
        "import numpy as np\n",
        "import matplotlib.pyplot as plt\n",
        "import seaborn as sns\n",
        "import logging\n",
        "\n",
        "# Configure logging for Jupyter\n",
        "logging.basicConfig(\n",
        "    level=logging.INFO,\n",
        "    format='%(asctime)s - %(levelname)s - %(message)s',\n",
        "    force=True  # Force reconfiguration of logging handlers\n",
        ")\n",
        "\n",
        "logging.info(\"Logging configured in Jupyter.\")"
      ]
    },
    {
      "cell_type": "markdown",
      "metadata": {
        "id": "GEQpFNPKqOti"
      },
      "source": [
        "# Train variational EM for the basic model, converge criteria is 0.01 or 100 iterations.\n",
        "\n",
        "## Sample to show the algorithm is correctly implemented\n",
        "## Number of topics = 5"
      ]
    },
    {
      "cell_type": "code",
      "execution_count": 6,
      "metadata": {
        "id": "NzZ0w4Zaqwbd"
      },
      "outputs": [],
      "source": [
        "def init_lda(corpus, vocab, num_topics, random_state=42):\n",
        "    np.random.seed(random_state)\n",
        "\n",
        "    W = len(vocab) # number of total words\n",
        "    K = num_topics  # number of topics\n",
        "    N = np.array([len(doc) for doc in corpus]) # number of words in each document\n",
        "    D = len(corpus) # number of documents\n",
        "\n",
        "    print(f\"W: {W}\\nK: {K}\\nN: {N[:10]}...\\nD: {D}\")\n",
        "\n",
        "    alpha = np.random.gamma(shape=100, scale=0.01, size=K)\n",
        "    beta = np.random.dirichlet(np.ones(W), K)\n",
        "    print(f\"α: dim {alpha.shape}\\nβ: dim {beta.shape}\")\n",
        "\n",
        "    # initialize ϕ, γ\n",
        "    ## ϕ: (M x max(N) x k) arrays with zero paddings on the right\n",
        "    gamma = alpha + np.ones((D, K)) * N.reshape(-1, 1) / K\n",
        "    phi = np.ones((D, max(N), K)) / K\n",
        "    for m, N_d in enumerate(N):\n",
        "        phi[m, N_d:, :] = 0  # zero padding for vectorized operations\n",
        "\n",
        "    print(f\"γ: dim {gamma.shape}\\nϕ: dim ({len(phi)}, N_d, {phi[0].shape[1]})\")\n",
        "# Return initialized parameters\n",
        "\n",
        "    return W, K, N, D, alpha, beta, gamma, phi"
      ]
    },
    {
      "cell_type": "code",
      "execution_count": 7,
      "metadata": {
        "colab": {
          "base_uri": "https://localhost:8080/"
        },
        "id": "gOo-fj15q-XZ",
        "outputId": "9c12d0cb-b008-4b8a-86f5-3424d0a1dc8e"
      },
      "outputs": [
        {
          "output_type": "stream",
          "name": "stdout",
          "text": [
            "W: 21927\n",
            "K: 5\n",
            "N: [103  96  63  75 117  79 146 202  87 139]...\n",
            "D: 1702\n",
            "α: dim (5,)\n",
            "β: dim (5, 21927)\n",
            "γ: dim (1702, 5)\n",
            "ϕ: dim (1702, N_d, 5)\n"
          ]
        }
      ],
      "source": [
        "# initialize data\n",
        "W, K, N, D, alpha, beta, gamma, phi = init_lda(train_corpus, train_word_to_id, num_topics=5)"
      ]
    },
    {
      "cell_type": "code",
      "execution_count": 8,
      "metadata": {
        "id": "08Imke_Ko9YH"
      },
      "outputs": [],
      "source": [
        "from multiprocessing import Pool\n",
        "import numpy as np\n",
        "from scipy.special import psi\n",
        "\n",
        "def process_document_E_step(doc_tuple):\n",
        "    d, doc, N_d, phi, gamma_d, alpha, beta, K = doc_tuple\n",
        "\n",
        "    # optimize phi for document d\n",
        "    for n, (word_id, freq) in enumerate(doc):\n",
        "        for k in range(K):\n",
        "            phi[d, n, k] = beta[k, word_id] * np.exp(psi(gamma_d[k]) - psi(np.sum(gamma_d)))\n",
        "        # Normalize phi[d, n, :]\n",
        "        phi[d, n, :] /= phi[d, n, :].sum()\n",
        "\n",
        "    # Update gamma for document d\n",
        "    gamma_d = alpha + np.sum(phi[d, :N_d, :], axis=0)\n",
        "    return d, phi[d], gamma_d\n",
        "\n",
        "def E_step_parallel(corpus, N, phi, gamma, alpha, beta, K):\n",
        "    # Prepare data for parallel processing\n",
        "    data = [(d, doc, N[d], phi, gamma[d], alpha, beta, K) for d, doc in enumerate(corpus)]\n",
        "\n",
        "    # Process each document in parallel\n",
        "    with Pool() as pool:\n",
        "        results = pool.map(process_document_E_step, data)\n",
        "\n",
        "    # Update phi and gamma from results\n",
        "    for d, phi_d, gamma_d in results:\n",
        "        phi[d] = phi_d\n",
        "        gamma[d] = gamma_d\n",
        "\n",
        "    return phi, gamma\n"
      ]
    },
    {
      "cell_type": "code",
      "execution_count": 9,
      "metadata": {
        "id": "Hd7WgLwJrU5G"
      },
      "outputs": [],
      "source": [
        "def process_document_M_step(doc_tuple):\n",
        "    d, doc, W, phi = doc_tuple\n",
        "    beta_update = np.zeros((phi.shape[2], W))\n",
        "\n",
        "    # Update beta for document d\n",
        "    for n, (word_id, freq) in enumerate(doc):\n",
        "        beta_update[:, word_id] += freq * phi[d, n, :]\n",
        "\n",
        "    return beta_update\n",
        "\n",
        "def M_step_parallel(corpus, phi, gamma, alpha, beta, D, W):\n",
        "    # Update alpha using Newton-Raphson\n",
        "    alpha = update_alpha(alpha, gamma, D)\n",
        "\n",
        "    # Prepare data for parallel processing\n",
        "    data = [(d, doc, W, phi) for d, doc in enumerate(corpus)]\n",
        "\n",
        "    # Process each document in parallel for beta update\n",
        "    with Pool() as pool:\n",
        "        beta_updates = pool.map(process_document_M_step, data)\n",
        "\n",
        "    # Aggregate beta updates\n",
        "    for beta_update in beta_updates:\n",
        "        beta += beta_update\n",
        "\n",
        "    # Normalize beta\n",
        "    beta /= beta.sum(axis=1).reshape(-1, 1)\n",
        "\n",
        "    return alpha, beta\n",
        "\n",
        "import warnings\n",
        "\n",
        "def update_alpha(alpha, gamma, D, max_iter=10000, tol=1e-6):\n",
        "\n",
        "    for _ in range(max_iter):\n",
        "        # store old value\n",
        "        alpha0 = alpha.copy()\n",
        "\n",
        "        # g: gradient\n",
        "        psi_sum = psi(gamma.sum(axis=1)).reshape(-1, 1)\n",
        "        g = D * (psi(alpha.sum()) - psi(alpha)) + (psi(gamma) - psi_sum).sum(axis=0)\n",
        "\n",
        "        # H = diag(h) + 1z1'\n",
        "        z = D * polygamma(1, alpha.sum())  # z: Hessian constant component\n",
        "        h = -D * polygamma(1, alpha)       # h: Hessian diagonal component\n",
        "        c = (g / h).sum() / (1./z + (1./h).sum())\n",
        "\n",
        "        # update alpha\n",
        "        alpha -= (g - c) / h\n",
        "\n",
        "        # check convergence\n",
        "        if np.sqrt(np.mean((alpha - alpha0) ** 2)) < tol:\n",
        "            break\n",
        "    else:\n",
        "        warnings.warn(f\"max_iter={max_iter} reached: values might not be optimal.\")\n",
        "\n",
        "    return alpha\n"
      ]
    },
    {
      "cell_type": "code",
      "execution_count": 10,
      "metadata": {
        "id": "hVR8bx0MrzlR"
      },
      "outputs": [],
      "source": [
        "def dg(gamma, d, i):\n",
        "\n",
        "    return psi(gamma[d, i]) - psi(np.sum(gamma[d, :]))\n",
        "\n",
        "\n",
        "def dl(lam, i, w_n):\n",
        "\n",
        "    return psi(lam[i, w_n]) - psi(np.sum(lam[i, :]))\n",
        "\n",
        "def vlb(corpus, phi, gamma, alpha, beta, D, K):\n",
        "\n",
        "    lb = 0 # Lower bound accumulator\n",
        "    for d, doc in enumerate(corpus):\n",
        "        lb += (\n",
        "            gammaln(np.sum(alpha))\n",
        "            - np.sum(gammaln(alpha))\n",
        "            + np.sum([(alpha[i] - 1) * dg(gamma, d, i) for i in range(K)])\n",
        "        )\n",
        "\n",
        "        lb -= (\n",
        "            gammaln(np.sum(gamma[d, :]))\n",
        "            - np.sum(gammaln(gamma[d, :]))\n",
        "            + np.sum([(gamma[d, i] - 1) * dg(gamma, d, i) for i in range(K)])\n",
        "        )\n",
        "\n",
        "        for n, (word_id, freq) in enumerate(doc):\n",
        "            lb += freq * np.sum([phi[d][n, i] * dg(gamma, d, i) for i in range(K)])\n",
        "            try:\n",
        "              lb += freq * np.sum([phi[d][n, i] * np.log(beta[i, word_id]) for i in range(K)])\n",
        "            except Warning as e:\n",
        "              lb += freq * np.sum([phi[d][n, i] * np.log(beta[i, word_id]) for i in range(K)])\n",
        "\n",
        "            lb -= freq * np.sum([phi[d][n, i] * np.log(phi[d][n, i]) for i in range(K)])\n",
        "\n",
        "    return lb / D"
      ]
    },
    {
      "cell_type": "code",
      "execution_count": 11,
      "metadata": {
        "id": "6kpdoYbWr3Qh"
      },
      "outputs": [],
      "source": [
        "from tqdm import tqdm\n",
        "import warnings\n",
        "\n",
        "def lda_variational_em(corpus, W, K, N, D, alpha, beta, gamma, phi, n_iters=1000, tol=0.1, display=True):\n",
        "    lb = -np.inf\n",
        "    variational_lb = []\n",
        "    for epoch in tqdm(range(n_iters), desc=\"LDA Variational EM\", ncols=100):\n",
        "        # Store old value of the lower bound\n",
        "        lb_old = lb\n",
        "\n",
        "        # E-step: Optimize phi and gamma in parallel\n",
        "        phi, gamma = E_step_parallel(corpus, N, phi, gamma, alpha, beta, K)\n",
        "\n",
        "        # M-step: Update alpha and beta in parallel\n",
        "        alpha, beta = M_step_parallel(corpus, phi, gamma, alpha, beta, D, W)\n",
        "\n",
        "        # Check for anomalies\n",
        "        if np.any(np.isnan(alpha)):\n",
        "            print(\"NaN detected in alpha\")\n",
        "            break\n",
        "\n",
        "        # Check convergence by computing the variational lower bound (vlb)\n",
        "        lb = vlb(corpus, phi, gamma, alpha, beta, D, K)\n",
        "        err = abs(lb - lb_old)\n",
        "        variational_lb.append(lb)\n",
        "\n",
        "        # Check for anomalies in the lower bound\n",
        "        if np.isnan(lb):\n",
        "            print(\"NaN detected in lower bound\")\n",
        "            break\n",
        "\n",
        "        # Display progress if enabled\n",
        "        if display:\n",
        "            print(f\"\\n{epoch:04}:  variational_lb: {lb:.3f},  error: {err:.3f}\")\n",
        "\n",
        "        # Check convergence based on tolerance\n",
        "        if err < tol:\n",
        "            break\n",
        "    else:\n",
        "        warnings.warn(\"Maximum iterations reached: values might not be optimal.\")\n",
        "\n",
        "    return alpha, beta, phi, gamma, variational_lb\n"
      ]
    },
    {
      "cell_type": "code",
      "execution_count": 12,
      "metadata": {
        "colab": {
          "base_uri": "https://localhost:8080/"
        },
        "id": "s8T4gp3gsI97",
        "outputId": "c554d528-6bcb-4869-fb8e-b914ecc22b0d"
      },
      "outputs": [
        {
          "metadata": {
            "tags": null
          },
          "name": "stderr",
          "output_type": "stream",
          "text": [
            "LDA Variational EM:   1%|▍                                        | 1/100 [01:01<1:41:12, 61.34s/it]"
          ]
        },
        {
          "metadata": {
            "tags": null
          },
          "name": "stdout",
          "output_type": "stream",
          "text": [
            "\n",
            "0000:  variational_lb: -1622.628,  error: inf\n"
          ]
        },
        {
          "metadata": {
            "tags": null
          },
          "name": "stderr",
          "output_type": "stream",
          "text": [
            "\rLDA Variational EM:   2%|▊                                        | 2/100 [01:51<1:29:43, 54.93s/it]"
          ]
        },
        {
          "metadata": {
            "tags": null
          },
          "name": "stdout",
          "output_type": "stream",
          "text": [
            "\n",
            "0001:  variational_lb: -1621.161,  error: 1.467\n"
          ]
        },
        {
          "metadata": {
            "tags": null
          },
          "name": "stderr",
          "output_type": "stream",
          "text": [
            "\rLDA Variational EM:   3%|█▏                                       | 3/100 [02:37<1:22:21, 50.94s/it]"
          ]
        },
        {
          "metadata": {
            "tags": null
          },
          "name": "stdout",
          "output_type": "stream",
          "text": [
            "\n",
            "0002:  variational_lb: -1620.771,  error: 0.390\n"
          ]
        },
        {
          "metadata": {
            "tags": null
          },
          "name": "stderr",
          "output_type": "stream",
          "text": [
            "\rLDA Variational EM:   4%|█▋                                       | 4/100 [03:24<1:18:35, 49.12s/it]"
          ]
        },
        {
          "metadata": {
            "tags": null
          },
          "name": "stdout",
          "output_type": "stream",
          "text": [
            "\n",
            "0003:  variational_lb: -1620.546,  error: 0.224\n"
          ]
        },
        {
          "metadata": {
            "tags": null
          },
          "name": "stderr",
          "output_type": "stream",
          "text": [
            "\rLDA Variational EM:   5%|██                                       | 5/100 [04:10<1:15:56, 47.96s/it]"
          ]
        },
        {
          "metadata": {
            "tags": null
          },
          "name": "stdout",
          "output_type": "stream",
          "text": [
            "\n",
            "0004:  variational_lb: -1620.399,  error: 0.148\n"
          ]
        },
        {
          "metadata": {
            "tags": null
          },
          "name": "stderr",
          "output_type": "stream",
          "text": [
            "\rLDA Variational EM:   6%|██▍                                      | 6/100 [04:57<1:14:44, 47.71s/it]"
          ]
        },
        {
          "metadata": {
            "tags": null
          },
          "name": "stdout",
          "output_type": "stream",
          "text": [
            "\n",
            "0005:  variational_lb: -1620.296,  error: 0.103\n"
          ]
        },
        {
          "metadata": {
            "tags": null
          },
          "name": "stderr",
          "output_type": "stream",
          "text": [
            "\rLDA Variational EM:   7%|██▊                                      | 7/100 [05:44<1:13:45, 47.59s/it]"
          ]
        },
        {
          "metadata": {
            "tags": null
          },
          "name": "stdout",
          "output_type": "stream",
          "text": [
            "\n",
            "0006:  variational_lb: -1620.220,  error: 0.076\n"
          ]
        },
        {
          "metadata": {
            "tags": null
          },
          "name": "stderr",
          "output_type": "stream",
          "text": [
            "\rLDA Variational EM:   8%|███▎                                     | 8/100 [06:29<1:11:36, 46.70s/it]"
          ]
        },
        {
          "metadata": {
            "tags": null
          },
          "name": "stdout",
          "output_type": "stream",
          "text": [
            "\n",
            "0007:  variational_lb: -1620.163,  error: 0.058\n"
          ]
        },
        {
          "metadata": {
            "tags": null
          },
          "name": "stderr",
          "output_type": "stream",
          "text": [
            "\rLDA Variational EM:   9%|███▋                                     | 9/100 [07:15<1:10:41, 46.61s/it]"
          ]
        },
        {
          "metadata": {
            "tags": null
          },
          "name": "stdout",
          "output_type": "stream",
          "text": [
            "\n",
            "0008:  variational_lb: -1620.117,  error: 0.046\n"
          ]
        },
        {
          "metadata": {
            "tags": null
          },
          "name": "stderr",
          "output_type": "stream",
          "text": [
            "\rLDA Variational EM:  10%|████                                    | 10/100 [08:02<1:09:52, 46.58s/it]"
          ]
        },
        {
          "metadata": {
            "tags": null
          },
          "name": "stdout",
          "output_type": "stream",
          "text": [
            "\n",
            "0009:  variational_lb: -1620.079,  error: 0.037\n"
          ]
        },
        {
          "metadata": {
            "tags": null
          },
          "name": "stderr",
          "output_type": "stream",
          "text": [
            "\rLDA Variational EM:  11%|████▍                                   | 11/100 [08:49<1:09:10, 46.63s/it]"
          ]
        },
        {
          "metadata": {
            "tags": null
          },
          "name": "stdout",
          "output_type": "stream",
          "text": [
            "\n",
            "0010:  variational_lb: -1620.048,  error: 0.031\n"
          ]
        },
        {
          "metadata": {
            "tags": null
          },
          "name": "stderr",
          "output_type": "stream",
          "text": [
            "\rLDA Variational EM:  12%|████▊                                   | 12/100 [09:35<1:08:05, 46.42s/it]"
          ]
        },
        {
          "metadata": {
            "tags": null
          },
          "name": "stdout",
          "output_type": "stream",
          "text": [
            "\n",
            "0011:  variational_lb: -1620.021,  error: 0.027\n"
          ]
        },
        {
          "metadata": {
            "tags": null
          },
          "name": "stderr",
          "output_type": "stream",
          "text": [
            "\rLDA Variational EM:  13%|█████▏                                  | 13/100 [10:21<1:07:06, 46.28s/it]"
          ]
        },
        {
          "metadata": {
            "tags": null
          },
          "name": "stdout",
          "output_type": "stream",
          "text": [
            "\n",
            "0012:  variational_lb: -1619.998,  error: 0.023\n"
          ]
        },
        {
          "metadata": {
            "tags": null
          },
          "name": "stderr",
          "output_type": "stream",
          "text": [
            "\rLDA Variational EM:  14%|█████▌                                  | 14/100 [11:13<1:09:03, 48.17s/it]"
          ]
        },
        {
          "metadata": {
            "tags": null
          },
          "name": "stdout",
          "output_type": "stream",
          "text": [
            "\n",
            "0013:  variational_lb: -1619.977,  error: 0.021\n"
          ]
        },
        {
          "metadata": {
            "tags": null
          },
          "name": "stderr",
          "output_type": "stream",
          "text": [
            "\rLDA Variational EM:  15%|██████                                  | 15/100 [12:02<1:08:20, 48.24s/it]"
          ]
        },
        {
          "metadata": {
            "tags": null
          },
          "name": "stdout",
          "output_type": "stream",
          "text": [
            "\n",
            "0014:  variational_lb: -1619.959,  error: 0.019\n"
          ]
        },
        {
          "metadata": {
            "tags": null
          },
          "name": "stderr",
          "output_type": "stream",
          "text": [
            "\rLDA Variational EM:  16%|██████▍                                 | 16/100 [12:48<1:06:56, 47.81s/it]"
          ]
        },
        {
          "metadata": {
            "tags": null
          },
          "name": "stdout",
          "output_type": "stream",
          "text": [
            "\n",
            "0015:  variational_lb: -1619.941,  error: 0.017\n"
          ]
        },
        {
          "metadata": {
            "tags": null
          },
          "name": "stderr",
          "output_type": "stream",
          "text": [
            "\rLDA Variational EM:  17%|██████▊                                 | 17/100 [13:36<1:05:50, 47.60s/it]"
          ]
        },
        {
          "metadata": {
            "tags": null
          },
          "name": "stdout",
          "output_type": "stream",
          "text": [
            "\n",
            "0016:  variational_lb: -1619.925,  error: 0.016\n"
          ]
        },
        {
          "metadata": {
            "tags": null
          },
          "name": "stderr",
          "output_type": "stream",
          "text": [
            "\rLDA Variational EM:  18%|███████▏                                | 18/100 [14:21<1:04:04, 46.88s/it]"
          ]
        },
        {
          "metadata": {
            "tags": null
          },
          "name": "stdout",
          "output_type": "stream",
          "text": [
            "\n",
            "0017:  variational_lb: -1619.910,  error: 0.015\n"
          ]
        },
        {
          "metadata": {
            "tags": null
          },
          "name": "stderr",
          "output_type": "stream",
          "text": [
            "\rLDA Variational EM:  19%|███████▌                                | 19/100 [15:07<1:03:04, 46.72s/it]"
          ]
        },
        {
          "metadata": {
            "tags": null
          },
          "name": "stdout",
          "output_type": "stream",
          "text": [
            "\n",
            "0018:  variational_lb: -1619.895,  error: 0.015\n"
          ]
        },
        {
          "metadata": {
            "tags": null
          },
          "name": "stderr",
          "output_type": "stream",
          "text": [
            "\rLDA Variational EM:  20%|████████                                | 20/100 [15:55<1:02:55, 47.19s/it]"
          ]
        },
        {
          "metadata": {
            "tags": null
          },
          "name": "stdout",
          "output_type": "stream",
          "text": [
            "\n",
            "0019:  variational_lb: -1619.881,  error: 0.014\n"
          ]
        },
        {
          "metadata": {
            "tags": null
          },
          "name": "stderr",
          "output_type": "stream",
          "text": [
            "\rLDA Variational EM:  21%|████████▍                               | 21/100 [16:41<1:01:21, 46.60s/it]"
          ]
        },
        {
          "metadata": {
            "tags": null
          },
          "name": "stdout",
          "output_type": "stream",
          "text": [
            "\n",
            "0020:  variational_lb: -1619.867,  error: 0.014\n"
          ]
        },
        {
          "metadata": {
            "tags": null
          },
          "name": "stderr",
          "output_type": "stream",
          "text": [
            "\rLDA Variational EM:  22%|████████▊                               | 22/100 [17:27<1:00:24, 46.47s/it]"
          ]
        },
        {
          "metadata": {
            "tags": null
          },
          "name": "stdout",
          "output_type": "stream",
          "text": [
            "\n",
            "0021:  variational_lb: -1619.853,  error: 0.014\n"
          ]
        },
        {
          "metadata": {
            "tags": null
          },
          "name": "stderr",
          "output_type": "stream",
          "text": [
            "\rLDA Variational EM:  23%|█████████▋                                | 23/100 [18:14<59:47, 46.58s/it]"
          ]
        },
        {
          "metadata": {
            "tags": null
          },
          "name": "stdout",
          "output_type": "stream",
          "text": [
            "\n",
            "0022:  variational_lb: -1619.839,  error: 0.014\n"
          ]
        },
        {
          "metadata": {
            "tags": null
          },
          "name": "stderr",
          "output_type": "stream",
          "text": [
            "\rLDA Variational EM:  24%|██████████                                | 24/100 [19:01<59:15, 46.78s/it]"
          ]
        },
        {
          "metadata": {
            "tags": null
          },
          "name": "stdout",
          "output_type": "stream",
          "text": [
            "\n",
            "0023:  variational_lb: -1619.824,  error: 0.015\n"
          ]
        },
        {
          "metadata": {
            "tags": null
          },
          "name": "stderr",
          "output_type": "stream",
          "text": [
            "\rLDA Variational EM:  25%|██████████▌                               | 25/100 [19:46<57:51, 46.29s/it]"
          ]
        },
        {
          "metadata": {
            "tags": null
          },
          "name": "stdout",
          "output_type": "stream",
          "text": [
            "\n",
            "0024:  variational_lb: -1619.809,  error: 0.015\n"
          ]
        },
        {
          "metadata": {
            "tags": null
          },
          "name": "stderr",
          "output_type": "stream",
          "text": [
            "\rLDA Variational EM:  26%|██████████▉                               | 26/100 [20:32<56:57, 46.18s/it]"
          ]
        },
        {
          "metadata": {
            "tags": null
          },
          "name": "stdout",
          "output_type": "stream",
          "text": [
            "\n",
            "0025:  variational_lb: -1619.794,  error: 0.016\n"
          ]
        },
        {
          "metadata": {
            "tags": null
          },
          "name": "stderr",
          "output_type": "stream",
          "text": [
            "\rLDA Variational EM:  27%|███████████▎                              | 27/100 [21:25<58:41, 48.24s/it]"
          ]
        },
        {
          "metadata": {
            "tags": null
          },
          "name": "stdout",
          "output_type": "stream",
          "text": [
            "\n",
            "0026:  variational_lb: -1619.777,  error: 0.017\n"
          ]
        },
        {
          "metadata": {
            "tags": null
          },
          "name": "stderr",
          "output_type": "stream",
          "text": [
            "\rLDA Variational EM:  28%|███████████▊                              | 28/100 [22:13<57:51, 48.22s/it]"
          ]
        },
        {
          "metadata": {
            "tags": null
          },
          "name": "stdout",
          "output_type": "stream",
          "text": [
            "\n",
            "0027:  variational_lb: -1619.759,  error: 0.018\n"
          ]
        },
        {
          "metadata": {
            "tags": null
          },
          "name": "stderr",
          "output_type": "stream",
          "text": [
            "\rLDA Variational EM:  29%|████████████▏                             | 29/100 [22:59<56:16, 47.56s/it]"
          ]
        },
        {
          "metadata": {
            "tags": null
          },
          "name": "stdout",
          "output_type": "stream",
          "text": [
            "\n",
            "0028:  variational_lb: -1619.740,  error: 0.019\n"
          ]
        },
        {
          "metadata": {
            "tags": null
          },
          "name": "stderr",
          "output_type": "stream",
          "text": [
            "\rLDA Variational EM:  30%|████████████▌                             | 30/100 [23:45<55:01, 47.17s/it]"
          ]
        },
        {
          "metadata": {
            "tags": null
          },
          "name": "stdout",
          "output_type": "stream",
          "text": [
            "\n",
            "0029:  variational_lb: -1619.719,  error: 0.021\n"
          ]
        },
        {
          "metadata": {
            "tags": null
          },
          "name": "stderr",
          "output_type": "stream",
          "text": [
            "\rLDA Variational EM:  31%|█████████████                             | 31/100 [24:31<53:36, 46.62s/it]"
          ]
        },
        {
          "metadata": {
            "tags": null
          },
          "name": "stdout",
          "output_type": "stream",
          "text": [
            "\n",
            "0030:  variational_lb: -1619.696,  error: 0.023\n"
          ]
        },
        {
          "metadata": {
            "tags": null
          },
          "name": "stderr",
          "output_type": "stream",
          "text": [
            "\rLDA Variational EM:  32%|█████████████▍                            | 32/100 [25:17<52:38, 46.45s/it]"
          ]
        },
        {
          "metadata": {
            "tags": null
          },
          "name": "stdout",
          "output_type": "stream",
          "text": [
            "\n",
            "0031:  variational_lb: -1619.671,  error: 0.026\n"
          ]
        },
        {
          "metadata": {
            "tags": null
          },
          "name": "stderr",
          "output_type": "stream",
          "text": [
            "\rLDA Variational EM:  33%|█████████████▊                            | 33/100 [26:04<52:05, 46.65s/it]"
          ]
        },
        {
          "metadata": {
            "tags": null
          },
          "name": "stdout",
          "output_type": "stream",
          "text": [
            "\n",
            "0032:  variational_lb: -1619.642,  error: 0.029\n"
          ]
        },
        {
          "metadata": {
            "tags": null
          },
          "name": "stderr",
          "output_type": "stream",
          "text": [
            "\rLDA Variational EM:  34%|██████████████▎                           | 34/100 [26:51<51:33, 46.87s/it]"
          ]
        },
        {
          "metadata": {
            "tags": null
          },
          "name": "stdout",
          "output_type": "stream",
          "text": [
            "\n",
            "0033:  variational_lb: -1619.609,  error: 0.033\n"
          ]
        },
        {
          "metadata": {
            "tags": null
          },
          "name": "stderr",
          "output_type": "stream",
          "text": [
            "\rLDA Variational EM:  35%|██████████████▋                           | 35/100 [27:39<50:57, 47.04s/it]"
          ]
        },
        {
          "metadata": {
            "tags": null
          },
          "name": "stdout",
          "output_type": "stream",
          "text": [
            "\n",
            "0034:  variational_lb: -1619.572,  error: 0.037\n"
          ]
        },
        {
          "metadata": {
            "tags": null
          },
          "name": "stderr",
          "output_type": "stream",
          "text": [
            "\rLDA Variational EM:  36%|███████████████                           | 36/100 [28:25<50:00, 46.89s/it]"
          ]
        },
        {
          "metadata": {
            "tags": null
          },
          "name": "stdout",
          "output_type": "stream",
          "text": [
            "\n",
            "0035:  variational_lb: -1619.529,  error: 0.043\n"
          ]
        },
        {
          "metadata": {
            "tags": null
          },
          "name": "stderr",
          "output_type": "stream",
          "text": [
            "\rLDA Variational EM:  37%|███████████████▌                          | 37/100 [29:11<49:01, 46.69s/it]"
          ]
        },
        {
          "metadata": {
            "tags": null
          },
          "name": "stdout",
          "output_type": "stream",
          "text": [
            "\n",
            "0036:  variational_lb: -1619.479,  error: 0.050\n"
          ]
        },
        {
          "metadata": {
            "tags": null
          },
          "name": "stderr",
          "output_type": "stream",
          "text": [
            "\rLDA Variational EM:  38%|███████████████▉                          | 38/100 [29:58<48:11, 46.64s/it]"
          ]
        },
        {
          "metadata": {
            "tags": null
          },
          "name": "stdout",
          "output_type": "stream",
          "text": [
            "\n",
            "0037:  variational_lb: -1619.419,  error: 0.059\n"
          ]
        },
        {
          "metadata": {
            "tags": null
          },
          "name": "stderr",
          "output_type": "stream",
          "text": [
            "\rLDA Variational EM:  39%|████████████████▍                         | 39/100 [30:45<47:39, 46.88s/it]"
          ]
        },
        {
          "metadata": {
            "tags": null
          },
          "name": "stdout",
          "output_type": "stream",
          "text": [
            "\n",
            "0038:  variational_lb: -1619.348,  error: 0.071\n"
          ]
        },
        {
          "metadata": {
            "tags": null
          },
          "name": "stderr",
          "output_type": "stream",
          "text": [
            "\rLDA Variational EM:  40%|████████████████▊                         | 40/100 [31:37<48:16, 48.27s/it]"
          ]
        },
        {
          "metadata": {
            "tags": null
          },
          "name": "stdout",
          "output_type": "stream",
          "text": [
            "\n",
            "0039:  variational_lb: -1619.262,  error: 0.086\n"
          ]
        },
        {
          "metadata": {
            "tags": null
          },
          "name": "stderr",
          "output_type": "stream",
          "text": [
            "\rLDA Variational EM:  41%|█████████████████▏                        | 41/100 [32:26<47:50, 48.64s/it]"
          ]
        },
        {
          "metadata": {
            "tags": null
          },
          "name": "stdout",
          "output_type": "stream",
          "text": [
            "\n",
            "0040:  variational_lb: -1619.155,  error: 0.107\n"
          ]
        },
        {
          "metadata": {
            "tags": null
          },
          "name": "stderr",
          "output_type": "stream",
          "text": [
            "\rLDA Variational EM:  42%|█████████████████▋                        | 42/100 [33:12<46:13, 47.81s/it]"
          ]
        },
        {
          "metadata": {
            "tags": null
          },
          "name": "stdout",
          "output_type": "stream",
          "text": [
            "\n",
            "0041:  variational_lb: -1619.020,  error: 0.135\n"
          ]
        },
        {
          "metadata": {
            "tags": null
          },
          "name": "stderr",
          "output_type": "stream",
          "text": [
            "\rLDA Variational EM:  43%|██████████████████                        | 43/100 [33:58<44:46, 47.14s/it]"
          ]
        },
        {
          "metadata": {
            "tags": null
          },
          "name": "stdout",
          "output_type": "stream",
          "text": [
            "\n",
            "0042:  variational_lb: -1618.845,  error: 0.174\n"
          ]
        },
        {
          "metadata": {
            "tags": null
          },
          "name": "stderr",
          "output_type": "stream",
          "text": [
            "\rLDA Variational EM:  44%|██████████████████▍                       | 44/100 [34:45<44:03, 47.20s/it]"
          ]
        },
        {
          "metadata": {
            "tags": null
          },
          "name": "stdout",
          "output_type": "stream",
          "text": [
            "\n",
            "0043:  variational_lb: -1618.614,  error: 0.231\n"
          ]
        },
        {
          "metadata": {
            "tags": null
          },
          "name": "stderr",
          "output_type": "stream",
          "text": [
            "\rLDA Variational EM:  45%|██████████████████▉                       | 45/100 [35:31<42:47, 46.69s/it]"
          ]
        },
        {
          "metadata": {
            "tags": null
          },
          "name": "stdout",
          "output_type": "stream",
          "text": [
            "\n",
            "0044:  variational_lb: -1618.300,  error: 0.315\n"
          ]
        },
        {
          "metadata": {
            "tags": null
          },
          "name": "stderr",
          "output_type": "stream",
          "text": [
            "\rLDA Variational EM:  46%|███████████████████▎                      | 46/100 [36:16<41:44, 46.38s/it]"
          ]
        },
        {
          "metadata": {
            "tags": null
          },
          "name": "stdout",
          "output_type": "stream",
          "text": [
            "\n",
            "0045:  variational_lb: -1617.859,  error: 0.441\n"
          ]
        },
        {
          "metadata": {
            "tags": null
          },
          "name": "stderr",
          "output_type": "stream",
          "text": [
            "\rLDA Variational EM:  47%|███████████████████▋                      | 47/100 [37:03<40:58, 46.39s/it]"
          ]
        },
        {
          "metadata": {
            "tags": null
          },
          "name": "stdout",
          "output_type": "stream",
          "text": [
            "\n",
            "0046:  variational_lb: -1617.225,  error: 0.634\n"
          ]
        },
        {
          "metadata": {
            "tags": null
          },
          "name": "stderr",
          "output_type": "stream",
          "text": [
            "\rLDA Variational EM:  48%|████████████████████▏                     | 48/100 [37:49<40:12, 46.40s/it]"
          ]
        },
        {
          "metadata": {
            "tags": null
          },
          "name": "stdout",
          "output_type": "stream",
          "text": [
            "\n",
            "0047:  variational_lb: -1616.292,  error: 0.933\n"
          ]
        },
        {
          "metadata": {
            "tags": null
          },
          "name": "stderr",
          "output_type": "stream",
          "text": [
            "\rLDA Variational EM:  49%|████████████████████▌                     | 49/100 [38:35<39:23, 46.35s/it]"
          ]
        },
        {
          "metadata": {
            "tags": null
          },
          "name": "stdout",
          "output_type": "stream",
          "text": [
            "\n",
            "0048:  variational_lb: -1614.904,  error: 1.388\n"
          ]
        },
        {
          "metadata": {
            "tags": null
          },
          "name": "stderr",
          "output_type": "stream",
          "text": [
            "\rLDA Variational EM:  50%|█████████████████████                     | 50/100 [39:23<38:57, 46.74s/it]"
          ]
        },
        {
          "metadata": {
            "tags": null
          },
          "name": "stdout",
          "output_type": "stream",
          "text": [
            "\n",
            "0049:  variational_lb: -1612.853,  error: 2.051\n"
          ]
        },
        {
          "metadata": {
            "tags": null
          },
          "name": "stderr",
          "output_type": "stream",
          "text": [
            "\rLDA Variational EM:  51%|█████████████████████▍                    | 51/100 [40:10<38:07, 46.69s/it]"
          ]
        },
        {
          "metadata": {
            "tags": null
          },
          "name": "stdout",
          "output_type": "stream",
          "text": [
            "\n",
            "0050:  variational_lb: -1609.910,  error: 2.942\n"
          ]
        },
        {
          "metadata": {
            "tags": null
          },
          "name": "stderr",
          "output_type": "stream",
          "text": [
            "\rLDA Variational EM:  52%|█████████████████████▊                    | 52/100 [40:56<37:17, 46.61s/it]"
          ]
        },
        {
          "metadata": {
            "tags": null
          },
          "name": "stdout",
          "output_type": "stream",
          "text": [
            "\n",
            "0051:  variational_lb: -1605.894,  error: 4.017\n"
          ]
        },
        {
          "metadata": {
            "tags": null
          },
          "name": "stderr",
          "output_type": "stream",
          "text": [
            "\rLDA Variational EM:  53%|██████████████████████▎                   | 53/100 [41:48<37:43, 48.16s/it]"
          ]
        },
        {
          "metadata": {
            "tags": null
          },
          "name": "stdout",
          "output_type": "stream",
          "text": [
            "\n",
            "0052:  variational_lb: -1600.743,  error: 5.150\n"
          ]
        },
        {
          "metadata": {
            "tags": null
          },
          "name": "stderr",
          "output_type": "stream",
          "text": [
            "\rLDA Variational EM:  54%|██████████████████████▋                   | 54/100 [42:37<37:04, 48.37s/it]"
          ]
        },
        {
          "metadata": {
            "tags": null
          },
          "name": "stdout",
          "output_type": "stream",
          "text": [
            "\n",
            "0053:  variational_lb: -1594.583,  error: 6.161\n"
          ]
        },
        {
          "metadata": {
            "tags": null
          },
          "name": "stderr",
          "output_type": "stream",
          "text": [
            "\rLDA Variational EM:  55%|███████████████████████                   | 55/100 [43:26<36:32, 48.73s/it]"
          ]
        },
        {
          "metadata": {
            "tags": null
          },
          "name": "stdout",
          "output_type": "stream",
          "text": [
            "\n",
            "0054:  variational_lb: -1587.726,  error: 6.856\n"
          ]
        },
        {
          "metadata": {
            "tags": null
          },
          "name": "stderr",
          "output_type": "stream",
          "text": [
            "\rLDA Variational EM:  56%|███████████████████████▌                  | 56/100 [44:11<34:55, 47.61s/it]"
          ]
        },
        {
          "metadata": {
            "tags": null
          },
          "name": "stdout",
          "output_type": "stream",
          "text": [
            "\n",
            "0055:  variational_lb: -1580.638,  error: 7.089\n"
          ]
        },
        {
          "metadata": {
            "tags": null
          },
          "name": "stderr",
          "output_type": "stream",
          "text": [
            "\rLDA Variational EM:  57%|███████████████████████▉                  | 57/100 [44:58<33:52, 47.28s/it]"
          ]
        },
        {
          "metadata": {
            "tags": null
          },
          "name": "stdout",
          "output_type": "stream",
          "text": [
            "\n",
            "0056:  variational_lb: -1573.796,  error: 6.842\n"
          ]
        },
        {
          "metadata": {
            "tags": null
          },
          "name": "stderr",
          "output_type": "stream",
          "text": [
            "\rLDA Variational EM:  58%|████████████████████████▎                 | 58/100 [45:46<33:14, 47.48s/it]"
          ]
        },
        {
          "metadata": {
            "tags": null
          },
          "name": "stdout",
          "output_type": "stream",
          "text": [
            "\n",
            "0057:  variational_lb: -1567.539,  error: 6.258\n"
          ]
        },
        {
          "metadata": {
            "tags": null
          },
          "name": "stderr",
          "output_type": "stream",
          "text": [
            "\rLDA Variational EM:  59%|████████████████████████▊                 | 59/100 [46:31<31:58, 46.80s/it]"
          ]
        },
        {
          "metadata": {
            "tags": null
          },
          "name": "stdout",
          "output_type": "stream",
          "text": [
            "\n",
            "0058:  variational_lb: -1561.998,  error: 5.541\n"
          ]
        },
        {
          "metadata": {
            "tags": null
          },
          "name": "stderr",
          "output_type": "stream",
          "text": [
            "\rLDA Variational EM:  60%|█████████████████████████▏                | 60/100 [47:16<30:56, 46.42s/it]"
          ]
        },
        {
          "metadata": {
            "tags": null
          },
          "name": "stdout",
          "output_type": "stream",
          "text": [
            "\n",
            "0059:  variational_lb: -1557.164,  error: 4.834\n"
          ]
        },
        {
          "metadata": {
            "tags": null
          },
          "name": "stderr",
          "output_type": "stream",
          "text": [
            "\rLDA Variational EM:  61%|█████████████████████████▌                | 61/100 [48:04<30:18, 46.63s/it]"
          ]
        },
        {
          "metadata": {
            "tags": null
          },
          "name": "stdout",
          "output_type": "stream",
          "text": [
            "\n",
            "0060:  variational_lb: -1552.986,  error: 4.177\n"
          ]
        },
        {
          "metadata": {
            "tags": null
          },
          "name": "stderr",
          "output_type": "stream",
          "text": [
            "\rLDA Variational EM:  62%|██████████████████████████                | 62/100 [48:49<29:12, 46.12s/it]"
          ]
        },
        {
          "metadata": {
            "tags": null
          },
          "name": "stdout",
          "output_type": "stream",
          "text": [
            "\n",
            "0061:  variational_lb: -1549.451,  error: 3.536\n"
          ]
        },
        {
          "metadata": {
            "tags": null
          },
          "name": "stderr",
          "output_type": "stream",
          "text": [
            "\rLDA Variational EM:  63%|██████████████████████████▍               | 63/100 [49:34<28:22, 46.02s/it]"
          ]
        },
        {
          "metadata": {
            "tags": null
          },
          "name": "stdout",
          "output_type": "stream",
          "text": [
            "\n",
            "0062:  variational_lb: -1546.513,  error: 2.938\n"
          ]
        },
        {
          "metadata": {
            "tags": null
          },
          "name": "stderr",
          "output_type": "stream",
          "text": [
            "\rLDA Variational EM:  64%|██████████████████████████▉               | 64/100 [50:20<27:36, 46.01s/it]"
          ]
        },
        {
          "metadata": {
            "tags": null
          },
          "name": "stdout",
          "output_type": "stream",
          "text": [
            "\n",
            "0063:  variational_lb: -1544.095,  error: 2.417\n"
          ]
        },
        {
          "metadata": {
            "tags": null
          },
          "name": "stderr",
          "output_type": "stream",
          "text": [
            "\rLDA Variational EM:  65%|███████████████████████████▎              | 65/100 [51:06<26:50, 46.00s/it]"
          ]
        },
        {
          "metadata": {
            "tags": null
          },
          "name": "stdout",
          "output_type": "stream",
          "text": [
            "\n",
            "0064:  variational_lb: -1542.107,  error: 1.988\n"
          ]
        },
        {
          "metadata": {
            "tags": null
          },
          "name": "stderr",
          "output_type": "stream",
          "text": [
            "\rLDA Variational EM:  66%|███████████████████████████▋              | 66/100 [51:57<26:55, 47.53s/it]"
          ]
        },
        {
          "metadata": {
            "tags": null
          },
          "name": "stdout",
          "output_type": "stream",
          "text": [
            "\n",
            "0065:  variational_lb: -1540.444,  error: 1.663\n"
          ]
        },
        {
          "metadata": {
            "tags": null
          },
          "name": "stderr",
          "output_type": "stream",
          "text": [
            "\rLDA Variational EM:  67%|████████████████████████████▏             | 67/100 [52:47<26:30, 48.20s/it]"
          ]
        },
        {
          "metadata": {
            "tags": null
          },
          "name": "stdout",
          "output_type": "stream",
          "text": [
            "\n",
            "0066:  variational_lb: -1539.024,  error: 1.420\n"
          ]
        },
        {
          "metadata": {
            "tags": null
          },
          "name": "stderr",
          "output_type": "stream",
          "text": [
            "\rLDA Variational EM:  68%|████████████████████████████▌             | 68/100 [53:33<25:22, 47.58s/it]"
          ]
        },
        {
          "metadata": {
            "tags": null
          },
          "name": "stdout",
          "output_type": "stream",
          "text": [
            "\n",
            "0067:  variational_lb: -1537.808,  error: 1.216\n"
          ]
        },
        {
          "metadata": {
            "tags": null
          },
          "name": "stderr",
          "output_type": "stream",
          "text": [
            "\rLDA Variational EM:  69%|████████████████████████████▉             | 69/100 [54:19<24:17, 47.01s/it]"
          ]
        },
        {
          "metadata": {
            "tags": null
          },
          "name": "stdout",
          "output_type": "stream",
          "text": [
            "\n",
            "0068:  variational_lb: -1536.768,  error: 1.040\n"
          ]
        },
        {
          "metadata": {
            "tags": null
          },
          "name": "stderr",
          "output_type": "stream",
          "text": [
            "\rLDA Variational EM:  70%|█████████████████████████████▍            | 70/100 [55:05<23:21, 46.71s/it]"
          ]
        },
        {
          "metadata": {
            "tags": null
          },
          "name": "stdout",
          "output_type": "stream",
          "text": [
            "\n",
            "0069:  variational_lb: -1535.861,  error: 0.906\n"
          ]
        },
        {
          "metadata": {
            "tags": null
          },
          "name": "stderr",
          "output_type": "stream",
          "text": [
            "\rLDA Variational EM:  71%|█████████████████████████████▊            | 71/100 [55:51<22:27, 46.47s/it]"
          ]
        },
        {
          "metadata": {
            "tags": null
          },
          "name": "stdout",
          "output_type": "stream",
          "text": [
            "\n",
            "0070:  variational_lb: -1535.055,  error: 0.807\n"
          ]
        },
        {
          "metadata": {
            "tags": null
          },
          "name": "stderr",
          "output_type": "stream",
          "text": [
            "\rLDA Variational EM:  72%|██████████████████████████████▏           | 72/100 [56:38<21:45, 46.61s/it]"
          ]
        },
        {
          "metadata": {
            "tags": null
          },
          "name": "stdout",
          "output_type": "stream",
          "text": [
            "\n",
            "0071:  variational_lb: -1534.328,  error: 0.727\n"
          ]
        },
        {
          "metadata": {
            "tags": null
          },
          "name": "stderr",
          "output_type": "stream",
          "text": [
            "\rLDA Variational EM:  73%|██████████████████████████████▋           | 73/100 [57:25<20:59, 46.66s/it]"
          ]
        },
        {
          "metadata": {
            "tags": null
          },
          "name": "stdout",
          "output_type": "stream",
          "text": [
            "\n",
            "0072:  variational_lb: -1533.674,  error: 0.654\n"
          ]
        },
        {
          "metadata": {
            "tags": null
          },
          "name": "stderr",
          "output_type": "stream",
          "text": [
            "\rLDA Variational EM:  74%|███████████████████████████████           | 74/100 [58:11<20:07, 46.44s/it]"
          ]
        },
        {
          "metadata": {
            "tags": null
          },
          "name": "stdout",
          "output_type": "stream",
          "text": [
            "\n",
            "0073:  variational_lb: -1533.090,  error: 0.584\n"
          ]
        },
        {
          "metadata": {
            "tags": null
          },
          "name": "stderr",
          "output_type": "stream",
          "text": [
            "\rLDA Variational EM:  75%|███████████████████████████████▌          | 75/100 [58:56<19:14, 46.20s/it]"
          ]
        },
        {
          "metadata": {
            "tags": null
          },
          "name": "stdout",
          "output_type": "stream",
          "text": [
            "\n",
            "0074:  variational_lb: -1532.565,  error: 0.525\n"
          ]
        },
        {
          "metadata": {
            "tags": null
          },
          "name": "stderr",
          "output_type": "stream",
          "text": [
            "\rLDA Variational EM:  76%|███████████████████████████████▉          | 76/100 [59:43<18:30, 46.27s/it]"
          ]
        },
        {
          "metadata": {
            "tags": null
          },
          "name": "stdout",
          "output_type": "stream",
          "text": [
            "\n",
            "0075:  variational_lb: -1532.087,  error: 0.478\n"
          ]
        },
        {
          "metadata": {
            "tags": null
          },
          "name": "stderr",
          "output_type": "stream",
          "text": [
            "\rLDA Variational EM:  77%|██████████████████████████████▊         | 77/100 [1:00:31<17:58, 46.88s/it]"
          ]
        },
        {
          "metadata": {
            "tags": null
          },
          "name": "stdout",
          "output_type": "stream",
          "text": [
            "\n",
            "0076:  variational_lb: -1531.650,  error: 0.438\n"
          ]
        },
        {
          "metadata": {
            "tags": null
          },
          "name": "stderr",
          "output_type": "stream",
          "text": [
            "\rLDA Variational EM:  78%|███████████████████████████████▏        | 78/100 [1:01:16<16:57, 46.26s/it]"
          ]
        },
        {
          "metadata": {
            "tags": null
          },
          "name": "stdout",
          "output_type": "stream",
          "text": [
            "\n",
            "0077:  variational_lb: -1531.252,  error: 0.397\n"
          ]
        },
        {
          "metadata": {
            "tags": null
          },
          "name": "stderr",
          "output_type": "stream",
          "text": [
            "\rLDA Variational EM:  79%|███████████████████████████████▌        | 79/100 [1:02:09<16:54, 48.29s/it]"
          ]
        },
        {
          "metadata": {
            "tags": null
          },
          "name": "stdout",
          "output_type": "stream",
          "text": [
            "\n",
            "0078:  variational_lb: -1530.891,  error: 0.361\n"
          ]
        },
        {
          "metadata": {
            "tags": null
          },
          "name": "stderr",
          "output_type": "stream",
          "text": [
            "\rLDA Variational EM:  80%|████████████████████████████████        | 80/100 [1:02:57<16:05, 48.28s/it]"
          ]
        },
        {
          "metadata": {
            "tags": null
          },
          "name": "stdout",
          "output_type": "stream",
          "text": [
            "\n",
            "0079:  variational_lb: -1530.559,  error: 0.332\n"
          ]
        },
        {
          "metadata": {
            "tags": null
          },
          "name": "stderr",
          "output_type": "stream",
          "text": [
            "\rLDA Variational EM:  81%|████████████████████████████████▍       | 81/100 [1:03:43<15:06, 47.72s/it]"
          ]
        },
        {
          "metadata": {
            "tags": null
          },
          "name": "stdout",
          "output_type": "stream",
          "text": [
            "\n",
            "0080:  variational_lb: -1530.252,  error: 0.307\n"
          ]
        },
        {
          "metadata": {
            "tags": null
          },
          "name": "stderr",
          "output_type": "stream",
          "text": [
            "\rLDA Variational EM:  82%|████████████████████████████████▊       | 82/100 [1:04:29<14:10, 47.22s/it]"
          ]
        },
        {
          "metadata": {
            "tags": null
          },
          "name": "stdout",
          "output_type": "stream",
          "text": [
            "\n",
            "0081:  variational_lb: -1529.969,  error: 0.283\n"
          ]
        },
        {
          "metadata": {
            "tags": null
          },
          "name": "stderr",
          "output_type": "stream",
          "text": [
            "\rLDA Variational EM:  83%|█████████████████████████████████▏      | 83/100 [1:05:14<13:11, 46.54s/it]"
          ]
        },
        {
          "metadata": {
            "tags": null
          },
          "name": "stdout",
          "output_type": "stream",
          "text": [
            "\n",
            "0082:  variational_lb: -1529.706,  error: 0.263\n"
          ]
        },
        {
          "metadata": {
            "tags": null
          },
          "name": "stderr",
          "output_type": "stream",
          "text": [
            "\rLDA Variational EM:  84%|█████████████████████████████████▌      | 84/100 [1:06:00<12:20, 46.27s/it]"
          ]
        },
        {
          "metadata": {
            "tags": null
          },
          "name": "stdout",
          "output_type": "stream",
          "text": [
            "\n",
            "0083:  variational_lb: -1529.460,  error: 0.247\n"
          ]
        },
        {
          "metadata": {
            "tags": null
          },
          "name": "stderr",
          "output_type": "stream",
          "text": [
            "\rLDA Variational EM:  85%|██████████████████████████████████      | 85/100 [1:06:47<11:37, 46.47s/it]"
          ]
        },
        {
          "metadata": {
            "tags": null
          },
          "name": "stdout",
          "output_type": "stream",
          "text": [
            "\n",
            "0084:  variational_lb: -1529.222,  error: 0.238\n"
          ]
        },
        {
          "metadata": {
            "tags": null
          },
          "name": "stderr",
          "output_type": "stream",
          "text": [
            "\rLDA Variational EM:  86%|██████████████████████████████████▍     | 86/100 [1:07:32<10:45, 46.10s/it]"
          ]
        },
        {
          "metadata": {
            "tags": null
          },
          "name": "stdout",
          "output_type": "stream",
          "text": [
            "\n",
            "0085:  variational_lb: -1528.993,  error: 0.228\n"
          ]
        },
        {
          "metadata": {
            "tags": null
          },
          "name": "stderr",
          "output_type": "stream",
          "text": [
            "\rLDA Variational EM:  87%|██████████████████████████████████▊     | 87/100 [1:08:18<09:56, 45.90s/it]"
          ]
        },
        {
          "metadata": {
            "tags": null
          },
          "name": "stdout",
          "output_type": "stream",
          "text": [
            "\n",
            "0086:  variational_lb: -1528.775,  error: 0.219\n"
          ]
        },
        {
          "metadata": {
            "tags": null
          },
          "name": "stderr",
          "output_type": "stream",
          "text": [
            "\rLDA Variational EM:  88%|███████████████████████████████████▏    | 88/100 [1:09:05<09:16, 46.38s/it]"
          ]
        },
        {
          "metadata": {
            "tags": null
          },
          "name": "stdout",
          "output_type": "stream",
          "text": [
            "\n",
            "0087:  variational_lb: -1528.569,  error: 0.206\n"
          ]
        },
        {
          "metadata": {
            "tags": null
          },
          "name": "stderr",
          "output_type": "stream",
          "text": [
            "\rLDA Variational EM:  89%|███████████████████████████████████▌    | 89/100 [1:09:50<08:24, 45.87s/it]"
          ]
        },
        {
          "metadata": {
            "tags": null
          },
          "name": "stdout",
          "output_type": "stream",
          "text": [
            "\n",
            "0088:  variational_lb: -1528.375,  error: 0.194\n"
          ]
        },
        {
          "metadata": {
            "tags": null
          },
          "name": "stderr",
          "output_type": "stream",
          "text": [
            "\rLDA Variational EM:  90%|████████████████████████████████████    | 90/100 [1:10:36<07:39, 45.95s/it]"
          ]
        },
        {
          "metadata": {
            "tags": null
          },
          "name": "stdout",
          "output_type": "stream",
          "text": [
            "\n",
            "0089:  variational_lb: -1528.192,  error: 0.182\n"
          ]
        },
        {
          "metadata": {
            "tags": null
          },
          "name": "stderr",
          "output_type": "stream",
          "text": [
            "\rLDA Variational EM:  91%|████████████████████████████████████▍   | 91/100 [1:11:22<06:54, 46.07s/it]"
          ]
        },
        {
          "metadata": {
            "tags": null
          },
          "name": "stdout",
          "output_type": "stream",
          "text": [
            "\n",
            "0090:  variational_lb: -1528.020,  error: 0.172\n"
          ]
        },
        {
          "metadata": {
            "tags": null
          },
          "name": "stderr",
          "output_type": "stream",
          "text": [
            "\rLDA Variational EM:  92%|████████████████████████████████████▊   | 92/100 [1:12:14<06:21, 47.63s/it]"
          ]
        },
        {
          "metadata": {
            "tags": null
          },
          "name": "stdout",
          "output_type": "stream",
          "text": [
            "\n",
            "0091:  variational_lb: -1527.859,  error: 0.162\n"
          ]
        },
        {
          "metadata": {
            "tags": null
          },
          "name": "stderr",
          "output_type": "stream",
          "text": [
            "\rLDA Variational EM:  93%|█████████████████████████████████████▏  | 93/100 [1:13:01<05:33, 47.69s/it]"
          ]
        },
        {
          "metadata": {
            "tags": null
          },
          "name": "stdout",
          "output_type": "stream",
          "text": [
            "\n",
            "0092:  variational_lb: -1527.703,  error: 0.156\n"
          ]
        },
        {
          "metadata": {
            "tags": null
          },
          "name": "stderr",
          "output_type": "stream",
          "text": [
            "\rLDA Variational EM:  94%|█████████████████████████████████████▌  | 94/100 [1:13:48<04:44, 47.37s/it]"
          ]
        },
        {
          "metadata": {
            "tags": null
          },
          "name": "stdout",
          "output_type": "stream",
          "text": [
            "\n",
            "0093:  variational_lb: -1527.553,  error: 0.149\n"
          ]
        },
        {
          "metadata": {
            "tags": null
          },
          "name": "stderr",
          "output_type": "stream",
          "text": [
            "\rLDA Variational EM:  95%|██████████████████████████████████████  | 95/100 [1:14:33<03:52, 46.59s/it]"
          ]
        },
        {
          "metadata": {
            "tags": null
          },
          "name": "stdout",
          "output_type": "stream",
          "text": [
            "\n",
            "0094:  variational_lb: -1527.415,  error: 0.139\n"
          ]
        },
        {
          "output_type": "stream",
          "name": "stderr",
          "text": [
            "\rLDA Variational EM:  96%|██████████████████████████████████████▍ | 96/100 [1:15:19<03:05, 46.31s/it]"
          ]
        },
        {
          "output_type": "stream",
          "name": "stdout",
          "text": [
            "\n",
            "0095:  variational_lb: -1527.286,  error: 0.129\n"
          ]
        },
        {
          "output_type": "stream",
          "name": "stderr",
          "text": [
            "\rLDA Variational EM:  97%|██████████████████████████████████████▊ | 97/100 [1:16:05<02:18, 46.25s/it]"
          ]
        },
        {
          "output_type": "stream",
          "name": "stdout",
          "text": [
            "\n",
            "0096:  variational_lb: -1527.166,  error: 0.120\n"
          ]
        },
        {
          "output_type": "stream",
          "name": "stderr",
          "text": [
            "\rLDA Variational EM:  98%|███████████████████████████████████████▏| 98/100 [1:16:50<01:31, 45.98s/it]"
          ]
        },
        {
          "output_type": "stream",
          "name": "stdout",
          "text": [
            "\n",
            "0097:  variational_lb: -1527.052,  error: 0.113\n"
          ]
        },
        {
          "output_type": "stream",
          "name": "stderr",
          "text": [
            "\rLDA Variational EM:  99%|███████████████████████████████████████▌| 99/100 [1:17:35<00:45, 45.76s/it]"
          ]
        },
        {
          "output_type": "stream",
          "name": "stdout",
          "text": [
            "\n",
            "0098:  variational_lb: -1526.945,  error: 0.107\n"
          ]
        },
        {
          "output_type": "stream",
          "name": "stderr",
          "text": [
            "LDA Variational EM: 100%|███████████████████████████████████████| 100/100 [1:18:21<00:00, 47.01s/it]"
          ]
        },
        {
          "output_type": "stream",
          "name": "stdout",
          "text": [
            "\n",
            "0099:  variational_lb: -1526.840,  error: 0.106\n"
          ]
        },
        {
          "output_type": "stream",
          "name": "stderr",
          "text": [
            "\n",
            "<ipython-input-11-978b34eafc5a>:43: UserWarning: Maximum iterations reached: values might not be optimal.\n",
            "  warnings.warn(\"Maximum iterations reached: values might not be optimal.\")\n"
          ]
        }
      ],
      "source": [
        "alpha, beta, phi, gamma, variational_lb = lda_variational_em(\n",
        "    corpus=train_corpus,\n",
        "    W=W,\n",
        "    K=K,\n",
        "    N=N,\n",
        "    D=D,\n",
        "    alpha=alpha,\n",
        "    beta=beta,\n",
        "    phi=phi,\n",
        "    gamma=gamma,\n",
        "    n_iters=100,\n",
        "    tol=0.01,\n",
        "    display=True\n",
        ")"
      ]
    },
    {
      "cell_type": "code",
      "execution_count": null,
      "metadata": {
        "id": "ZmoLGV97CM4g"
      },
      "outputs": [],
      "source": [
        "import pickle\n",
        "\n",
        "with open('alpha.pkl', 'wb') as f:\n",
        "    pickle.dump(alpha, f)\n",
        "\n",
        "with open('beta.pkl', 'wb') as f:\n",
        "    pickle.dump(beta, f)\n",
        "\n",
        "with open('phi.pkl', 'wb') as f:\n",
        "    pickle.dump(phi, f)\n",
        "\n",
        "with open('gamma.pkl', 'wb') as f:\n",
        "    pickle.dump(gamma, f)\n",
        "\n",
        "with open('variational_lb.pkl', 'wb') as f:\n",
        "    pickle.dump(variational_lb, f)"
      ]
    },
    {
      "cell_type": "code",
      "execution_count": null,
      "metadata": {
        "colab": {
          "base_uri": "https://localhost:8080/",
          "height": 17
        },
        "id": "Z8fXu_4oClC9",
        "outputId": "5b11123d-5444-4029-8802-39d58d72921b"
      },
      "outputs": [
        {
          "data": {
            "application/javascript": [
              "\n",
              "    async function download(id, filename, size) {\n",
              "      if (!google.colab.kernel.accessAllowed) {\n",
              "        return;\n",
              "      }\n",
              "      const div = document.createElement('div');\n",
              "      const label = document.createElement('label');\n",
              "      label.textContent = `Downloading \"${filename}\": `;\n",
              "      div.appendChild(label);\n",
              "      const progress = document.createElement('progress');\n",
              "      progress.max = size;\n",
              "      div.appendChild(progress);\n",
              "      document.body.appendChild(div);\n",
              "\n",
              "      const buffers = [];\n",
              "      let downloaded = 0;\n",
              "\n",
              "      const channel = await google.colab.kernel.comms.open(id);\n",
              "      // Send a message to notify the kernel that we're ready.\n",
              "      channel.send({})\n",
              "\n",
              "      for await (const message of channel.messages) {\n",
              "        // Send a message to notify the kernel that we're ready.\n",
              "        channel.send({})\n",
              "        if (message.buffers) {\n",
              "          for (const buffer of message.buffers) {\n",
              "            buffers.push(buffer);\n",
              "            downloaded += buffer.byteLength;\n",
              "            progress.value = downloaded;\n",
              "          }\n",
              "        }\n",
              "      }\n",
              "      const blob = new Blob(buffers, {type: 'application/binary'});\n",
              "      const a = document.createElement('a');\n",
              "      a.href = window.URL.createObjectURL(blob);\n",
              "      a.download = filename;\n",
              "      div.appendChild(a);\n",
              "      a.click();\n",
              "      div.remove();\n",
              "    }\n",
              "  "
            ],
            "text/plain": [
              "<IPython.core.display.Javascript object>"
            ]
          },
          "metadata": {},
          "output_type": "display_data"
        },
        {
          "data": {
            "application/javascript": [
              "download(\"download_c86e6cff-9025-47c7-afec-f3aa7ea3ca5c\", \"alpha.pkl\", 187)"
            ],
            "text/plain": [
              "<IPython.core.display.Javascript object>"
            ]
          },
          "metadata": {},
          "output_type": "display_data"
        },
        {
          "data": {
            "application/javascript": [
              "\n",
              "    async function download(id, filename, size) {\n",
              "      if (!google.colab.kernel.accessAllowed) {\n",
              "        return;\n",
              "      }\n",
              "      const div = document.createElement('div');\n",
              "      const label = document.createElement('label');\n",
              "      label.textContent = `Downloading \"${filename}\": `;\n",
              "      div.appendChild(label);\n",
              "      const progress = document.createElement('progress');\n",
              "      progress.max = size;\n",
              "      div.appendChild(progress);\n",
              "      document.body.appendChild(div);\n",
              "\n",
              "      const buffers = [];\n",
              "      let downloaded = 0;\n",
              "\n",
              "      const channel = await google.colab.kernel.comms.open(id);\n",
              "      // Send a message to notify the kernel that we're ready.\n",
              "      channel.send({})\n",
              "\n",
              "      for await (const message of channel.messages) {\n",
              "        // Send a message to notify the kernel that we're ready.\n",
              "        channel.send({})\n",
              "        if (message.buffers) {\n",
              "          for (const buffer of message.buffers) {\n",
              "            buffers.push(buffer);\n",
              "            downloaded += buffer.byteLength;\n",
              "            progress.value = downloaded;\n",
              "          }\n",
              "        }\n",
              "      }\n",
              "      const blob = new Blob(buffers, {type: 'application/binary'});\n",
              "      const a = document.createElement('a');\n",
              "      a.href = window.URL.createObjectURL(blob);\n",
              "      a.download = filename;\n",
              "      div.appendChild(a);\n",
              "      a.click();\n",
              "      div.remove();\n",
              "    }\n",
              "  "
            ],
            "text/plain": [
              "<IPython.core.display.Javascript object>"
            ]
          },
          "metadata": {},
          "output_type": "display_data"
        },
        {
          "data": {
            "application/javascript": [
              "download(\"download_f594869d-4378-41ac-bcb8-f2d658c4e3f9\", \"beta.pkl\", 877242)"
            ],
            "text/plain": [
              "<IPython.core.display.Javascript object>"
            ]
          },
          "metadata": {},
          "output_type": "display_data"
        },
        {
          "data": {
            "application/javascript": [
              "\n",
              "    async function download(id, filename, size) {\n",
              "      if (!google.colab.kernel.accessAllowed) {\n",
              "        return;\n",
              "      }\n",
              "      const div = document.createElement('div');\n",
              "      const label = document.createElement('label');\n",
              "      label.textContent = `Downloading \"${filename}\": `;\n",
              "      div.appendChild(label);\n",
              "      const progress = document.createElement('progress');\n",
              "      progress.max = size;\n",
              "      div.appendChild(progress);\n",
              "      document.body.appendChild(div);\n",
              "\n",
              "      const buffers = [];\n",
              "      let downloaded = 0;\n",
              "\n",
              "      const channel = await google.colab.kernel.comms.open(id);\n",
              "      // Send a message to notify the kernel that we're ready.\n",
              "      channel.send({})\n",
              "\n",
              "      for await (const message of channel.messages) {\n",
              "        // Send a message to notify the kernel that we're ready.\n",
              "        channel.send({})\n",
              "        if (message.buffers) {\n",
              "          for (const buffer of message.buffers) {\n",
              "            buffers.push(buffer);\n",
              "            downloaded += buffer.byteLength;\n",
              "            progress.value = downloaded;\n",
              "          }\n",
              "        }\n",
              "      }\n",
              "      const blob = new Blob(buffers, {type: 'application/binary'});\n",
              "      const a = document.createElement('a');\n",
              "      a.href = window.URL.createObjectURL(blob);\n",
              "      a.download = filename;\n",
              "      div.appendChild(a);\n",
              "      a.click();\n",
              "      div.remove();\n",
              "    }\n",
              "  "
            ],
            "text/plain": [
              "<IPython.core.display.Javascript object>"
            ]
          },
          "metadata": {},
          "output_type": "display_data"
        },
        {
          "data": {
            "application/javascript": [
              "download(\"download_10bb4fd9-3f84-4f24-93b8-d3e7e13cc699\", \"phi.pkl\", 48677365)"
            ],
            "text/plain": [
              "<IPython.core.display.Javascript object>"
            ]
          },
          "metadata": {},
          "output_type": "display_data"
        },
        {
          "data": {
            "application/javascript": [
              "\n",
              "    async function download(id, filename, size) {\n",
              "      if (!google.colab.kernel.accessAllowed) {\n",
              "        return;\n",
              "      }\n",
              "      const div = document.createElement('div');\n",
              "      const label = document.createElement('label');\n",
              "      label.textContent = `Downloading \"${filename}\": `;\n",
              "      div.appendChild(label);\n",
              "      const progress = document.createElement('progress');\n",
              "      progress.max = size;\n",
              "      div.appendChild(progress);\n",
              "      document.body.appendChild(div);\n",
              "\n",
              "      const buffers = [];\n",
              "      let downloaded = 0;\n",
              "\n",
              "      const channel = await google.colab.kernel.comms.open(id);\n",
              "      // Send a message to notify the kernel that we're ready.\n",
              "      channel.send({})\n",
              "\n",
              "      for await (const message of channel.messages) {\n",
              "        // Send a message to notify the kernel that we're ready.\n",
              "        channel.send({})\n",
              "        if (message.buffers) {\n",
              "          for (const buffer of message.buffers) {\n",
              "            buffers.push(buffer);\n",
              "            downloaded += buffer.byteLength;\n",
              "            progress.value = downloaded;\n",
              "          }\n",
              "        }\n",
              "      }\n",
              "      const blob = new Blob(buffers, {type: 'application/binary'});\n",
              "      const a = document.createElement('a');\n",
              "      a.href = window.URL.createObjectURL(blob);\n",
              "      a.download = filename;\n",
              "      div.appendChild(a);\n",
              "      a.click();\n",
              "      div.remove();\n",
              "    }\n",
              "  "
            ],
            "text/plain": [
              "<IPython.core.display.Javascript object>"
            ]
          },
          "metadata": {},
          "output_type": "display_data"
        },
        {
          "data": {
            "application/javascript": [
              "download(\"download_8f54f72b-3c6d-437c-b4ec-69edd31280b1\", \"gamma.pkl\", 68242)"
            ],
            "text/plain": [
              "<IPython.core.display.Javascript object>"
            ]
          },
          "metadata": {},
          "output_type": "display_data"
        },
        {
          "data": {
            "application/javascript": [
              "\n",
              "    async function download(id, filename, size) {\n",
              "      if (!google.colab.kernel.accessAllowed) {\n",
              "        return;\n",
              "      }\n",
              "      const div = document.createElement('div');\n",
              "      const label = document.createElement('label');\n",
              "      label.textContent = `Downloading \"${filename}\": `;\n",
              "      div.appendChild(label);\n",
              "      const progress = document.createElement('progress');\n",
              "      progress.max = size;\n",
              "      div.appendChild(progress);\n",
              "      document.body.appendChild(div);\n",
              "\n",
              "      const buffers = [];\n",
              "      let downloaded = 0;\n",
              "\n",
              "      const channel = await google.colab.kernel.comms.open(id);\n",
              "      // Send a message to notify the kernel that we're ready.\n",
              "      channel.send({})\n",
              "\n",
              "      for await (const message of channel.messages) {\n",
              "        // Send a message to notify the kernel that we're ready.\n",
              "        channel.send({})\n",
              "        if (message.buffers) {\n",
              "          for (const buffer of message.buffers) {\n",
              "            buffers.push(buffer);\n",
              "            downloaded += buffer.byteLength;\n",
              "            progress.value = downloaded;\n",
              "          }\n",
              "        }\n",
              "      }\n",
              "      const blob = new Blob(buffers, {type: 'application/binary'});\n",
              "      const a = document.createElement('a');\n",
              "      a.href = window.URL.createObjectURL(blob);\n",
              "      a.download = filename;\n",
              "      div.appendChild(a);\n",
              "      a.click();\n",
              "      div.remove();\n",
              "    }\n",
              "  "
            ],
            "text/plain": [
              "<IPython.core.display.Javascript object>"
            ]
          },
          "metadata": {},
          "output_type": "display_data"
        },
        {
          "data": {
            "application/javascript": [
              "download(\"download_51016e86-6f9c-4b14-9d04-23c4a501c8d3\", \"variational_lb.pkl\", 2001)"
            ],
            "text/plain": [
              "<IPython.core.display.Javascript object>"
            ]
          },
          "metadata": {},
          "output_type": "display_data"
        }
      ],
      "source": [
        "from google.colab import files\n",
        "\n",
        "files.download('alpha.pkl')\n",
        "files.download('beta.pkl')\n",
        "files.download('phi.pkl')\n",
        "files.download('gamma.pkl')\n",
        "files.download('variational_lb.pkl')\n"
      ]
    },
    {
      "cell_type": "code",
      "source": [
        "# with open('alpha.pkl', 'rb') as file:\n",
        "#     alpha = pickle.load(file)\n",
        "\n",
        "# with open('beta.pkl', 'rb') as file:\n",
        "#     beta = pickle.load(file)\n",
        "\n",
        "# with open('phi.pkl', 'rb') as file:\n",
        "#     phi = pickle.load(file)\n",
        "\n",
        "# with open('gamma.pkl', 'rb') as file:\n",
        "#     gamma = pickle.load(file)\n",
        "\n",
        "# with open('variational_lb.pkl', 'rb') as file:\n",
        "#     variational_lb = pickle.load(file)\n",
        "\n",
        "# This part is used to retrieve the trained parameters from the 100 iterations and number of topic = 5 case\n",
        "# In case the link is unstable, I downloaded the trained parameters"
      ],
      "metadata": {
        "id": "PKrC7K-aZ717"
      },
      "execution_count": 31,
      "outputs": []
    },
    {
      "cell_type": "code",
      "execution_count": 24,
      "metadata": {
        "id": "68_I8M4gPQ7Y"
      },
      "outputs": [],
      "source": [
        "def display_top_words(beta, id_to_word, num_words=10):\n",
        "    \"\"\"\n",
        "    Display the top words for each topic based on the beta matrix.\n",
        "\n",
        "    Parameters:\n",
        "    - beta: Topic-word distribution matrix (shape: num_topics x vocab_size)\n",
        "    - id_to_word: Dictionary mapping word IDs to actual words\n",
        "    - num_words: Number of top words to display per topic\n",
        "    \"\"\"\n",
        "    num_topics = beta.shape[0]  # Number of topics\n",
        "\n",
        "    # Iterate over each topic and display the top words\n",
        "    for topic_idx in range(num_topics):\n",
        "        # Get the top word IDs for the current topic\n",
        "        top_word_ids = np.argsort(beta[topic_idx])[::-1][:num_words]  # Sort in descending order\n",
        "\n",
        "        # Map word IDs to actual words\n",
        "        top_words = [id_to_word[word_id] for word_id in top_word_ids]\n",
        "\n",
        "        # Display the topic and its top words\n",
        "        print(f\"Topic {topic_idx}: {', '.join(top_words)}\")\n"
      ]
    },
    {
      "cell_type": "code",
      "execution_count": 29,
      "metadata": {
        "id": "h3Dul1XXPUrt",
        "colab": {
          "base_uri": "https://localhost:8080/"
        },
        "outputId": "089c0cb7-d503-4775-aa99-0e039996ea8b"
      },
      "outputs": [
        {
          "output_type": "stream",
          "name": "stdout",
          "text": [
            "Topic 0: market, company, price, firm, growth, economy, share, sale, bank, rate\n",
            "Topic 1: people, game, music, film, show, technology, tv, mobile, phone, user\n",
            "Topic 2: game, win, england, player, world, time, play, second, best, back\n",
            "Topic 3: people, company, court, case, law, right, time, make, many, want\n",
            "Topic 4: labour, party, election, government, blair, minister, tory, film, brown, people\n"
          ]
        }
      ],
      "source": [
        "train_id_to_word = {v: k for k, v in train_word_to_id.items()}\n",
        "display_top_words(beta, train_id_to_word, num_words=10)"
      ]
    },
    {
      "cell_type": "code",
      "execution_count": 30,
      "metadata": {
        "id": "ou12OZCxFoTB",
        "colab": {
          "base_uri": "https://localhost:8080/",
          "height": 564
        },
        "outputId": "cf0c23bd-0c80-4d81-d81a-52c030cecb14"
      },
      "outputs": [
        {
          "output_type": "display_data",
          "data": {
            "text/plain": [
              "<Figure size 1000x600 with 1 Axes>"
            ],
            "image/png": "[encoded data removed]"
          },
          "metadata": {}
        }
      ],
      "source": [
        "import matplotlib.pyplot as plt\n",
        "\n",
        "# Sample data (replace with your actual data)\n",
        "iterations = list(range(1, 101))  # Number of iterations (e.g., 100 iterations)\n",
        "loss_values = variational_lb  # Replace with your loss values per iteration\n",
        "\n",
        "# Plotting\n",
        "plt.figure(figsize=(10, 6))\n",
        "plt.plot(iterations, loss_values, marker='o', linestyle='-', color='b')\n",
        "plt.xlabel(\"Iterations\")\n",
        "plt.ylabel(\"Loss\")\n",
        "plt.title(\"Iterations vs. Loss\")\n",
        "plt.grid(True)\n",
        "plt.show()"
      ]
    },
    {
      "cell_type": "markdown",
      "metadata": {
        "id": "NCGKtw_qk6Ts"
      },
      "source": [
        "# Prediction and Perplexity"
      ]
    },
    {
      "cell_type": "code",
      "execution_count": 15,
      "metadata": {
        "id": "G1xGbMnU5hSF"
      },
      "outputs": [],
      "source": [
        "def lda_prediction(corpus, W, K, alpha, beta, max_iters=50, tol=1e-6):\n",
        "\n",
        "    D = len(corpus)          # Number of documents in the test set\n",
        "    N = [len(doc) for doc in corpus]  # Word counts per document\n",
        "    max_N_d = max(N)         # Maximum number of words in a document\n",
        "\n",
        "    # Initialize phi and gamma\n",
        "    phi = np.zeros((D, max_N_d, K))\n",
        "    gamma = np.zeros((D, K))\n",
        "\n",
        "    # Loop through documents with progress tracking\n",
        "    for d, doc in tqdm(enumerate(corpus), total=D, desc=\"Processing Documents\", ncols=100):\n",
        "        N_d = len(doc)  # Number of unique words in the document\n",
        "        gamma_d = alpha + np.random.rand(K)  # Initialize gamma randomly\n",
        "\n",
        "        for _ in range(max_iters):\n",
        "            gamma_old = gamma_d.copy()\n",
        "\n",
        "            # Update phi\n",
        "            for n, (word_id, freq) in enumerate(doc):\n",
        "                for k in range(K):\n",
        "                    phi[d, n, k] = beta[k, word_id] * np.exp(psi(gamma_d[k]) - psi(np.sum(gamma_d)))\n",
        "                phi[d, n, :] /= phi[d, n, :].sum()  # Normalize phi\n",
        "\n",
        "            # Update gamma\n",
        "            gamma_d = alpha + np.sum(phi[d, :N_d, :], axis=0)\n",
        "\n",
        "            # Check convergence\n",
        "            if np.sqrt(np.mean((gamma_d - gamma_old) ** 2)) < tol:\n",
        "                break\n",
        "\n",
        "        # Store results\n",
        "        gamma[d] = gamma_d\n",
        "\n",
        "    return phi, gamma\n"
      ]
    },
    {
      "cell_type": "code",
      "execution_count": 16,
      "metadata": {
        "id": "whVC9x5XoO0g"
      },
      "outputs": [],
      "source": [
        "def calculate_perplexity(corpus, phi, gamma, beta, K):\n",
        "    total_log_likelihood = 0\n",
        "    total_words = sum(sum(freq for _, freq in doc) for doc in corpus)\n",
        "\n",
        "    for d, doc in enumerate(corpus):\n",
        "        doc_log_likelihood = 0\n",
        "        for n, (word_id, freq) in enumerate(doc):\n",
        "            # Compute the log-likelihood contribution for each word\n",
        "            word_likelihood = np.dot(phi[d, n, :], beta[:, word_id])\n",
        "            doc_log_likelihood += freq * np.log(word_likelihood + 1e-10)  # Add small epsilon for numerical stability\n",
        "\n",
        "        total_log_likelihood += doc_log_likelihood\n",
        "\n",
        "    # Compute perplexity\n",
        "    perplexity = np.exp(-total_log_likelihood / total_words)\n",
        "    return perplexity"
      ]
    },
    {
      "cell_type": "code",
      "execution_count": 17,
      "metadata": {
        "id": "TQfbOddaoRtM",
        "colab": {
          "base_uri": "https://localhost:8080/"
        },
        "outputId": "4e7044a0-8772-4cee-cbc0-7dd18962d194"
      },
      "outputs": [
        {
          "output_type": "stream",
          "name": "stderr",
          "text": [
            "Processing Documents: 100%|███████████████████████████████████████| 425/425 [02:08<00:00,  3.31it/s]\n"
          ]
        }
      ],
      "source": [
        "phi_test, gamma_test = lda_prediction(\n",
        "    corpus=test_corpus,\n",
        "    W=len(train_word_to_id),\n",
        "    K=5,\n",
        "    alpha=alpha,\n",
        "    beta=beta\n",
        ")"
      ]
    },
    {
      "cell_type": "code",
      "execution_count": 18,
      "metadata": {
        "colab": {
          "base_uri": "https://localhost:8080/"
        },
        "id": "6nsMNT53o8kO",
        "outputId": "b5cfd6a2-f6fd-461c-cd3b-22fb2116da5a"
      },
      "outputs": [
        {
          "output_type": "stream",
          "name": "stdout",
          "text": [
            "Perplexity: 1953.9353\n"
          ]
        }
      ],
      "source": [
        "perplexity = calculate_perplexity(\n",
        "    corpus=test_corpus,\n",
        "    phi=phi_test,\n",
        "    gamma=gamma_test,\n",
        "    beta=beta,\n",
        "    K=5\n",
        ")\n",
        "print(f\"Perplexity: {perplexity:.4f}\")\n"
      ]
    },
    {
      "cell_type": "markdown",
      "metadata": {
        "id": "hudquFFjgW99"
      },
      "source": [
        "# Experiments\n",
        "## Varying number of topics:[2,5,10,20,50,100]\n",
        "### Only train the case of 2, 5, 10 since the runtime is too long"
      ]
    },
    {
      "cell_type": "code",
      "execution_count": null,
      "metadata": {
        "id": "3XKMTJ4Grnmo"
      },
      "outputs": [],
      "source": [
        "def run_lda_experiments(corpus_train, corpus_test, train_word_to_id, num_topics_list, n_iters=100, tol=0.1):\n",
        "    perplexities = []\n",
        "\n",
        "    for K in num_topics_list:\n",
        "        print(f\"Running LDA with {K} topics...\")\n",
        "\n",
        "        # Initialize parameters using init_lda\n",
        "        W, K, N, D, alpha, beta, gamma, phi = init_lda(corpus_train, vocab=train_word_to_id, num_topics=K)\n",
        "\n",
        "        # Train LDA\n",
        "        alpha, beta, _, _, _ = lda_variational_em(\n",
        "            corpus=corpus_train,\n",
        "            W=W,\n",
        "            K=K,\n",
        "            N=N,\n",
        "            D=D,\n",
        "            alpha=alpha,\n",
        "            beta=beta,\n",
        "            gamma=gamma,\n",
        "            phi=phi,\n",
        "            n_iters=n_iters,\n",
        "            tol=tol,\n",
        "            display=False\n",
        "        )\n",
        "\n",
        "        # Predict for test set\n",
        "        phi_test, gamma_test = lda_prediction(\n",
        "            corpus=corpus_test,\n",
        "            W=W,\n",
        "            K=K,\n",
        "            alpha=alpha,\n",
        "            beta=beta\n",
        "        )\n",
        "\n",
        "        # Calculate perplexity\n",
        "        perplexity = calculate_perplexity(\n",
        "            corpus=corpus_test,\n",
        "            phi=phi_test,\n",
        "            gamma=gamma_test,\n",
        "            beta=beta,\n",
        "            K=K\n",
        "        )\n",
        "        perplexities.append(perplexity)\n",
        "        print(f\"Perplexity for {K} topics: {perplexity:.4f}\")\n",
        "\n",
        "    return perplexities\n"
      ]
    },
    {
      "cell_type": "code",
      "execution_count": null,
      "metadata": {
        "colab": {
          "base_uri": "https://localhost:8080/"
        },
        "id": "_HEEr7HqsVyU",
        "outputId": "6fab9c58-d92d-4bdf-fae2-8f8c8bff5dc6"
      },
      "outputs": [
        {
          "name": "stdout",
          "output_type": "stream",
          "text": [
            "Running LDA with 2 topics...\n",
            "W: 21927\n",
            "K: 2\n",
            "N: [103  96  63  75 117  79 146 202  87 139]...\n",
            "D: 1702\n",
            "α: dim (2,)\n",
            "β: dim (2, 21927)\n",
            "γ: dim (1702, 2)\n",
            "ϕ: dim (1702, N_d, 2)\n"
          ]
        },
        {
          "name": "stderr",
          "output_type": "stream",
          "text": [
            "LDA Variational EM: 100%|█████████████████████████████████████████| 100/100 [38:09<00:00, 22.90s/it]\n",
            "<ipython-input-13-978b34eafc5a>:43: UserWarning: Maximum iterations reached: values might not be optimal.\n",
            "  warnings.warn(\"Maximum iterations reached: values might not be optimal.\")\n",
            "Processing Documents: 100%|███████████████████████████████████████| 425/425 [00:44<00:00,  9.51it/s]\n"
          ]
        },
        {
          "name": "stdout",
          "output_type": "stream",
          "text": [
            "Perplexity for 2 topics: 3073.6158\n",
            "Running LDA with 10 topics...\n",
            "W: 21927\n",
            "K: 10\n",
            "N: [103  96  63  75 117  79 146 202  87 139]...\n",
            "D: 1702\n",
            "α: dim (10,)\n",
            "β: dim (10, 21927)\n",
            "γ: dim (1702, 10)\n",
            "ϕ: dim (1702, N_d, 10)\n"
          ]
        },
        {
          "name": "stderr",
          "output_type": "stream",
          "text": [
            "LDA Variational EM: 100%|███████████████████████████████████████| 100/100 [2:15:37<00:00, 81.38s/it]\n",
            "Processing Documents: 100%|███████████████████████████████████████| 425/425 [03:58<00:00,  1.78it/s]\n"
          ]
        },
        {
          "name": "stdout",
          "output_type": "stream",
          "text": [
            "Perplexity for 10 topics: 1390.4193\n",
            "Running LDA with 20 topics...\n",
            "W: 21927\n",
            "K: 20\n",
            "N: [103  96  63  75 117  79 146 202  87 139]...\n",
            "D: 1702\n",
            "α: dim (20,)\n",
            "β: dim (20, 21927)\n",
            "γ: dim (1702, 20)\n",
            "ϕ: dim (1702, N_d, 20)\n"
          ]
        },
        {
          "name": "stderr",
          "output_type": "stream",
          "text": [
            "\rLDA Variational EM:   0%|                                                   | 0/100 [00:00<?, ?it/s]"
          ]
        }
      ],
      "source": [
        "# Parameters for experiments\n",
        "num_topics_list = [2, 10, 20]\n",
        "n_iters = 100\n",
        "tol = 0.01\n",
        "\n",
        "perplexity_5 = {5: perplexity} # from the previous sample to avoid recalculate\n",
        "\n",
        "# Run experiments\n",
        "perplexities = run_lda_experiments(\n",
        "    corpus_train=train_corpus,\n",
        "    corpus_test=test_corpus,\n",
        "    train_word_to_id=train_word_to_id,\n",
        "    num_topics_list=num_topics_list,\n",
        "    n_iters=n_iters,\n",
        "    tol=tol\n",
        ")\n",
        "\n",
        "combined_perplexities = perplexities.copy()\n",
        "\n",
        "# Update it with the second dictionary\n",
        "combined_perplexities.update(perplexity_5)\n",
        "print(combined_perplexities)"
      ]
    },
    {
      "cell_type": "code",
      "execution_count": null,
      "metadata": {
        "id": "TXxE8sk8v1fT"
      },
      "outputs": [],
      "source": []
    },
    {
      "cell_type": "markdown",
      "metadata": {
        "id": "PyztYMhogylx"
      },
      "source": [
        "# Smoothed LDA"
      ]
    },
    {
      "cell_type": "markdown",
      "metadata": {
        "id": "QyPx6I9UmPrG"
      },
      "source": [
        "#### The code is finished but not trained"
      ]
    },
    {
      "cell_type": "code",
      "execution_count": null,
      "metadata": {
        "id": "jl7E-FvGgyXR"
      },
      "outputs": [],
      "source": [
        "def update_phi(D, N, k, phi, gamma, docs):\n",
        "    for d in range(D):\n",
        "        for n, (word_id, freq) in enumerate(docs[d]):\n",
        "            for i in range(k):\n",
        "                phi[d][n, i] = np.exp(dl(lam, i, word_id) + dg(gamma, d, i))\n",
        "\n",
        "            # Normalize over topics\n",
        "            phi[d][n, :] = phi[d][n, :] / np.sum(phi[d][n, :])\n",
        "            phi[d][n, :] *= freq  # Scale by word frequency\n",
        "\n",
        "    return phi\n",
        "\n",
        "def update_gamma(D, phi, alpha):\n",
        "\n",
        "    gamma = alpha + np.array([phi[d].sum(axis=0) for d in range(D)])\n",
        "\n",
        "    return gamma\n",
        "\n",
        "\n",
        "def update_lam(W, N, D, phi, lam, eta, docs):\n",
        "\n",
        "    lam[:] = eta\n",
        "    for d in range(D):  #, desc=\"MINORIZE lam\"):\n",
        "        for n, (word_id, freq) in enumerate(docs[d]):\n",
        "            lam[:, word_id] += phi[d][n, :].T * freq\n",
        "\n",
        "    return lam\n",
        "\n",
        "\n",
        "def update_alpha(D, k, old_alpha, gamma, max_iter=1000, tol=0.1):\n",
        "\n",
        "    alpha = old_alpha\n",
        "\n",
        "    for _ in range(max_iter):\n",
        "        alpha_old = alpha\n",
        "\n",
        "        #  Calculate gradient\n",
        "        g = D * (psi(np.sum(alpha)) - psi(alpha)) +\\\n",
        "            (psi(gamma) - psi(np.sum(gamma, axis=1)).reshape(-1, 1)).sum(axis=0)\n",
        "\n",
        "        #  Calculate Hessian diagonal component\n",
        "        h = -D * polygamma(1, alpha)\n",
        "\n",
        "        #  Calculate Hessian constant component\n",
        "        z = D * polygamma(1, np.sum(alpha))\n",
        "\n",
        "        #  Calculate constant\n",
        "        c = np.sum(g / h) / (z ** (-1.0) + np.sum(h ** (-1.0)))\n",
        "\n",
        "        #  Update alpha\n",
        "        alpha = alpha - (g - c) / h\n",
        "\n",
        "        #  Check convergence\n",
        "        if np.sqrt(np.mean(np.square(alpha - alpha_old))) < tol:\n",
        "            break\n",
        "    else:\n",
        "        warnings.warn(\"_update_alpha(): max_iter reached.\")\n",
        "\n",
        "    return alpha\n",
        "\n",
        "\n",
        "def update_eta(D, k, old_eta, lam, max_iter=1000, tol=0.1):\n",
        "\n",
        "    eta = old_eta\n",
        "\n",
        "    for _ in range(max_iter):\n",
        "        eta_old = eta\n",
        "\n",
        "        #  Calculate gradient\n",
        "        g = k * (psi(np.sum(eta)) - psi(eta)) +\\\n",
        "            (psi(lam) - psi(np.sum(lam, axis=1)).reshape(-1, 1)).sum(axis=0)\n",
        "\n",
        "        #  Calculate Hessian diagonal component\n",
        "        h = -k * polygamma(1, eta)\n",
        "\n",
        "        #  Calculate Hessian constant component\n",
        "        z = k * polygamma(1, np.sum(eta))\n",
        "\n",
        "        #  Calculate constant\n",
        "        c = np.sum(g / h) / (z ** (-1.0) + np.sum(h ** (-1.0)))\n",
        "\n",
        "        #  Update alpha\n",
        "        eta = eta - (g - c) / h\n",
        "\n",
        "        #  Check convergence\n",
        "        if np.sqrt(np.mean(np.square(eta - eta_old))) < tol:\n",
        "            break\n",
        "    else:\n",
        "        warnings.warn(\"_update_eta(): max_iter reached.\")\n",
        "\n",
        "    return eta\n",
        "\n",
        "\n",
        "def E_step(D, N, k, eta, alpha, old_phi, old_gamma, old_lam, docs):\n",
        "\n",
        "    phi = update_phi(D, N, k, old_phi, old_gamma, docs)\n",
        "    gamma = update_gamma(D, phi, alpha)\n",
        "    lam = update_lam(W, N, D, phi, old_lam, eta, docs)\n",
        "    return phi, gamma, lam\n",
        "\n",
        "\n",
        "def M_step(D, k, gamma, old_alpha, old_eta):\n",
        "\n",
        "    alpha = update_alpha(D, k, old_alpha, gamma)\n",
        "    eta = update_eta(D, k, old_eta, lam)\n",
        "    return alpha, eta\n",
        "\n",
        "\n",
        "def calc_vlb(D, N, k, phi, gamma, lam, alpha, eta, docs):\n",
        "\n",
        "    # Initialize accumulators for terms in the VLB\n",
        "    a0, a1, a2, a3_1, a3_2, a4, a5 = 0.0, 0.0, 0.0, 0.0, 0.0, 0.0, 0.0\n",
        "\n",
        "    for d in range(D):\n",
        "        # Term a0: Contribution from Dirichlet prior eta\n",
        "        a0 += (\n",
        "            k * (gammaln(np.sum(eta)) - np.sum(gammaln(eta)))\n",
        "            + np.sum([(eta[j] - 1) * dl(lam, i, j) for j in range(W) for i in range(k)])\n",
        "        )\n",
        "\n",
        "        # Term a1: Contribution from Dirichlet prior alpha\n",
        "        a1 += (\n",
        "            gammaln(np.sum(alpha))\n",
        "            - np.sum(gammaln(alpha))\n",
        "            + np.sum([(alpha[i] - 1) * dg(gamma, d, i) for i in range(k)])\n",
        "        )\n",
        "\n",
        "        # Term a4: Contribution from gamma for document d\n",
        "        a4 += (\n",
        "            gammaln(np.sum(gamma[d, :]))\n",
        "            - np.sum(gammaln(gamma[d, :]))\n",
        "            + np.sum([(gamma[d, i] - 1) * dg(gamma, d, i) for i in range(k)])\n",
        "        )\n",
        "\n",
        "        # Terms a3_2: Contribution from lambda\n",
        "        for i in range(k):\n",
        "            for j in range(W):\n",
        "                a3_2 += (\n",
        "                    gammaln(np.sum(lam[i, j]))\n",
        "                    - np.sum(gammaln(lam[i, :]))\n",
        "                    + np.sum((lam[i, j] - 1) * dl(lam, i, j))\n",
        "                )\n",
        "\n",
        "        # Terms a2, a3_1, a5: Contributions from phi and word-topic assignments\n",
        "        for n, (w_n, freq) in enumerate(docs[d]):\n",
        "            a2 += np.sum([phi[d][n, i] * dg(gamma, d, i) for i in range(k)])\n",
        "            a3_1 += np.sum([phi[d][n, i] * dl(lam, i, w_n) for i in range(k)])\n",
        "            a5 += np.sum([phi[d][n, i] * np.log(phi[d][n, i]) for i in range(k)])\n",
        "\n",
        "    # Return the computed variational lower bound\n",
        "    return a0 + a1 + a2 + a3_1 - a3_2 - a4 - a5\n",
        "\n"
      ]
    },
    {
      "cell_type": "code",
      "execution_count": null,
      "metadata": {
        "id": "YJG144-clzmj"
      },
      "outputs": [],
      "source": [
        "def smoothLDA(D, N, k, eta, alpha, phi, gamma, lam, docs, max_iter=1000, tol=5, verbose=True):\n",
        "    vlb = -np.inf\n",
        "\n",
        "    for it in range(max_iter):\n",
        "        old_vlb = vlb\n",
        "        phi, gamma, lam = E_step(D, N, k, eta, alpha, phi, gamma, lam, docs)\n",
        "        alpha, eta = M_step(D, k, gamma, alpha, eta)\n",
        "\n",
        "        vlb = calc_vlb(D, N, k, phi, gamma, lam, alpha, eta, docs)\n",
        "        err = vlb - old_vlb\n",
        "\n",
        "        if verbose:\n",
        "            print(f\"Iteration {it+1}: {vlb: .3f} (delta: {err: .2f})\")\n",
        "\n",
        "        if err < tol:\n",
        "            break\n",
        "    else:\n",
        "        warnings.warn(\"max_iter reached.\")"
      ]
    },
    {
      "cell_type": "markdown",
      "metadata": {
        "id": "Bs3WWRE9mV7j"
      },
      "source": [
        "#### Parameters"
      ]
    },
    {
      "cell_type": "code",
      "execution_count": null,
      "metadata": {
        "id": "d3Xh074gmLEI"
      },
      "outputs": [],
      "source": [
        "docs = train_corpus\n",
        "W = len(train_word_to_id)\n",
        "k = K  # number of topics\n",
        "N = np.array([sum(freq for _, freq in doc) for doc in train_corpus])\n",
        "D = len(docs)\n",
        "\n",
        "alpha = np.random.gamma(100, 0.01, k)\n",
        "eta = np.ones(W)\n",
        "\n",
        "# initialize variational parameters\n",
        "# ϕ: (M x max(N) x k) arrays with zero paddings on the right\n",
        "phi = [np.ones((len(doc), k)) / k for doc in docs]\n",
        "gamma = alpha + (N / k).reshape(-1, 1)\n",
        "lam = np.random.gamma(shape=100, scale=0.01, size=(k, W))"
      ]
    },
    {
      "cell_type": "code",
      "execution_count": null,
      "metadata": {
        "id": "XbmUrqAEq1ik"
      },
      "outputs": [],
      "source": []
    }
  ],
  "metadata": {
    "colab": {
      "provenance": []
    },
    "kernelspec": {
      "display_name": "Python 3",
      "name": "python3"
    },
    "language_info": {
      "name": "python"
    }
  },
  "nbformat": 4,
  "nbformat_minor": 0
}